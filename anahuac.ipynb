{
 "cells": [
  {
   "cell_type": "markdown",
   "metadata": {
    "collapsed": true
   },
   "source": [
    "# MARATONA BEHIND THE CODE 2020\n",
    "\n",
    "## DESAFIO 6 - ANAHUAC"
   ]
  },
  {
   "cell_type": "markdown",
   "metadata": {},
   "source": [
    "### Introducción"
   ]
  },
  {
   "cell_type": "markdown",
   "metadata": {},
   "source": [
    "En este desafio, usted usará herramientas de IBM como Watson Studio (o Cloud Pak for Data) para construir un modelo baseado en Machine Learning capaz de preveer si un estudante irá continuar o abandonará su curso."
   ]
  },
  {
   "cell_type": "markdown",
   "metadata": {},
   "source": [
    "<hr>"
   ]
  },
  {
   "cell_type": "markdown",
   "metadata": {},
   "source": [
    "## Installing Libs"
   ]
  },
  {
   "cell_type": "code",
   "execution_count": null,
   "metadata": {},
   "outputs": [],
   "source": [
    "!pip install scikit-learn --upgrade"
   ]
  },
  {
   "cell_type": "code",
   "execution_count": null,
   "metadata": {},
   "outputs": [],
   "source": [
    "!pip install xgboost --upgrade"
   ]
  },
  {
   "cell_type": "markdown",
   "metadata": {},
   "source": [
    "<hr>"
   ]
  },
  {
   "cell_type": "markdown",
   "metadata": {},
   "source": [
    "## Loading the .csv dataset from GitHub"
   ]
  },
  {
   "cell_type": "code",
   "execution_count": 1,
   "metadata": {},
   "outputs": [],
   "source": [
    "import pandas as pd"
   ]
  },
  {
   "cell_type": "code",
   "execution_count": 2,
   "metadata": {},
   "outputs": [
    {
     "data": {
      "text/html": [
       "<div>\n",
       "<style scoped>\n",
       "    .dataframe tbody tr th:only-of-type {\n",
       "        vertical-align: middle;\n",
       "    }\n",
       "\n",
       "    .dataframe tbody tr th {\n",
       "        vertical-align: top;\n",
       "    }\n",
       "\n",
       "    .dataframe thead th {\n",
       "        text-align: right;\n",
       "    }\n",
       "</style>\n",
       "<table border=\"1\" class=\"dataframe\">\n",
       "  <thead>\n",
       "    <tr style=\"text-align: right;\">\n",
       "      <th></th>\n",
       "      <th>studentId</th>\n",
       "      <th>reducido</th>\n",
       "      <th>ciclo</th>\n",
       "      <th>Graduado</th>\n",
       "    </tr>\n",
       "  </thead>\n",
       "  <tbody>\n",
       "    <tr>\n",
       "      <th>0</th>\n",
       "      <td>88588.0</td>\n",
       "      <td>Interv. Edu.</td>\n",
       "      <td>2019 - 08</td>\n",
       "      <td>No</td>\n",
       "    </tr>\n",
       "    <tr>\n",
       "      <th>1</th>\n",
       "      <td>81135.0</td>\n",
       "      <td>Educacion</td>\n",
       "      <td>2019 - 05</td>\n",
       "      <td>Si</td>\n",
       "    </tr>\n",
       "    <tr>\n",
       "      <th>2</th>\n",
       "      <td>80926.0</td>\n",
       "      <td>Direc. Estrat. Neg</td>\n",
       "      <td>2019 - 05</td>\n",
       "      <td>Si</td>\n",
       "    </tr>\n",
       "    <tr>\n",
       "      <th>3</th>\n",
       "      <td>82415.0</td>\n",
       "      <td>B. I.</td>\n",
       "      <td>2019 - 06</td>\n",
       "      <td>Si</td>\n",
       "    </tr>\n",
       "    <tr>\n",
       "      <th>4</th>\n",
       "      <td>90082.0</td>\n",
       "      <td>Est. Temprana</td>\n",
       "      <td>2019 - 08</td>\n",
       "      <td>No</td>\n",
       "    </tr>\n",
       "  </tbody>\n",
       "</table>\n",
       "</div>"
      ],
      "text/plain": [
       "   studentId            reducido      ciclo Graduado\n",
       "0    88588.0        Interv. Edu.  2019 - 08       No\n",
       "1    81135.0           Educacion  2019 - 05       Si\n",
       "2    80926.0  Direc. Estrat. Neg  2019 - 05       Si\n",
       "3    82415.0               B. I.  2019 - 06       Si\n",
       "4    90082.0       Est. Temprana  2019 - 08       No"
      ]
     },
     "execution_count": 2,
     "metadata": {},
     "output_type": "execute_result"
    }
   ],
   "source": [
    "#!wget --no-check-certificate --content-disposition https://raw.githubusercontent.com/vanderlei-test/dataset2/master/datasets/ForTraining.csv\n",
    "df_base_for_training = pd.read_csv(r'ForTraining.csv')\n",
    "df_base_for_training.head()"
   ]
  },
  {
   "cell_type": "markdown",
   "metadata": {},
   "source": [
    "Descripción: La primera tabla mostrada arriba tiene 4 columnas, 3 son features and el target: `Graduado` that has a binary values={Si, No}.\n",
    "\n",
    "Usted puede, y debe, usar mas data que esta disponible para construir su modelo. Los siguientes archivos .csv presentados:"
   ]
  },
  {
   "cell_type": "code",
   "execution_count": 3,
   "metadata": {},
   "outputs": [
    {
     "data": {
      "text/html": [
       "<div>\n",
       "<style scoped>\n",
       "    .dataframe tbody tr th:only-of-type {\n",
       "        vertical-align: middle;\n",
       "    }\n",
       "\n",
       "    .dataframe tbody tr th {\n",
       "        vertical-align: top;\n",
       "    }\n",
       "\n",
       "    .dataframe thead th {\n",
       "        text-align: right;\n",
       "    }\n",
       "</style>\n",
       "<table border=\"1\" class=\"dataframe\">\n",
       "  <thead>\n",
       "    <tr style=\"text-align: right;\">\n",
       "      <th></th>\n",
       "      <th>reducido</th>\n",
       "      <th>2017 - 03</th>\n",
       "      <th>2017 - 04</th>\n",
       "      <th>2017 - 05</th>\n",
       "      <th>2017 - 06</th>\n",
       "      <th>2017 - 07</th>\n",
       "      <th>2017 - 08</th>\n",
       "      <th>2018 - 01</th>\n",
       "      <th>2018 - 02</th>\n",
       "      <th>2018 - 03</th>\n",
       "      <th>...</th>\n",
       "      <th>2019 - 05</th>\n",
       "      <th>2019 - 06</th>\n",
       "      <th>2019 - 07</th>\n",
       "      <th>2019 - 08</th>\n",
       "      <th>2020 - 01</th>\n",
       "      <th>2020 - 02</th>\n",
       "      <th>2020 - 03</th>\n",
       "      <th>2020 - 04</th>\n",
       "      <th>2020 - 05</th>\n",
       "      <th>2020 - 06</th>\n",
       "    </tr>\n",
       "  </thead>\n",
       "  <tbody>\n",
       "    <tr>\n",
       "      <th>0</th>\n",
       "      <td>Act. Derecho Contratual</td>\n",
       "      <td>Sin clase</td>\n",
       "      <td>Sin clase</td>\n",
       "      <td>Sin clase</td>\n",
       "      <td>Sin clase</td>\n",
       "      <td>Sin clase</td>\n",
       "      <td>Sin clase</td>\n",
       "      <td>Sin clase</td>\n",
       "      <td>Sin clase</td>\n",
       "      <td>Sin clase</td>\n",
       "      <td>...</td>\n",
       "      <td>Sin clase</td>\n",
       "      <td>Sin clase</td>\n",
       "      <td>Sin clase</td>\n",
       "      <td>Sin clase</td>\n",
       "      <td>Consentimiento y objeto digital contractual</td>\n",
       "      <td>Métodos alternos de resolución de controversias</td>\n",
       "      <td>Nueva clasificación contractual</td>\n",
       "      <td>Nuevo derecho probatorio documental</td>\n",
       "      <td>Contratos inteligentes</td>\n",
       "      <td>Consentimiento y objeto digital contractual</td>\n",
       "    </tr>\n",
       "    <tr>\n",
       "      <th>1</th>\n",
       "      <td>Adm. Emp.</td>\n",
       "      <td>Sin clase</td>\n",
       "      <td>Sin clase</td>\n",
       "      <td>Sin clase</td>\n",
       "      <td>Sin clase</td>\n",
       "      <td>Sin clase</td>\n",
       "      <td>Sin clase</td>\n",
       "      <td>Sin clase</td>\n",
       "      <td>Sin clase</td>\n",
       "      <td>Sin clase</td>\n",
       "      <td>...</td>\n",
       "      <td>Mercadotecnia Estratégica</td>\n",
       "      <td>Contabilidad Financiera y Presupuestos</td>\n",
       "      <td>Administración de costos</td>\n",
       "      <td>Impuestos</td>\n",
       "      <td>Desafíos actuales en la Dirección del Capital ...</td>\n",
       "      <td>Mercadotecnia Estratégica</td>\n",
       "      <td>Contabilidad Financiera y Presupuestos</td>\n",
       "      <td>Administración de costos</td>\n",
       "      <td>Impuestos</td>\n",
       "      <td>Desafíos actuales en la Dirección del Capital ...</td>\n",
       "    </tr>\n",
       "    <tr>\n",
       "      <th>2</th>\n",
       "      <td>Adm. Riesgos</td>\n",
       "      <td>Sin clase</td>\n",
       "      <td>Sin clase</td>\n",
       "      <td>Sin clase</td>\n",
       "      <td>Sin clase</td>\n",
       "      <td>Sin clase</td>\n",
       "      <td>Sin clase</td>\n",
       "      <td>Sin clase</td>\n",
       "      <td>Sin clase</td>\n",
       "      <td>Sin clase</td>\n",
       "      <td>...</td>\n",
       "      <td>Riesgos empresariales</td>\n",
       "      <td>Contabilidad Financiera y Presupuestos</td>\n",
       "      <td>Administración de riesgos</td>\n",
       "      <td>Evaluación de Riesgos</td>\n",
       "      <td>Toma de Decisiones</td>\n",
       "      <td>Riesgos empresariales</td>\n",
       "      <td>Contabilidad Financiera y Presupuestos</td>\n",
       "      <td>Administración de riesgos</td>\n",
       "      <td>Evaluación de Riesgos</td>\n",
       "      <td>Toma de Decisiones</td>\n",
       "    </tr>\n",
       "    <tr>\n",
       "      <th>3</th>\n",
       "      <td>Adm. Salud</td>\n",
       "      <td>Sin clase</td>\n",
       "      <td>Sin clase</td>\n",
       "      <td>Sin clase</td>\n",
       "      <td>Sin clase</td>\n",
       "      <td>Sin clase</td>\n",
       "      <td>Sin clase</td>\n",
       "      <td>Sin clase</td>\n",
       "      <td>Sin clase</td>\n",
       "      <td>Sin clase</td>\n",
       "      <td>...</td>\n",
       "      <td>Calidad en salud</td>\n",
       "      <td>Contabilidad Financiera y Presupuestos</td>\n",
       "      <td>Administración de costos</td>\n",
       "      <td>Salud pública</td>\n",
       "      <td>Planeación estratégica en salud</td>\n",
       "      <td>Calidad en salud</td>\n",
       "      <td>Contabilidad Financiera y Presupuestos</td>\n",
       "      <td>Planeación estratégica en salud</td>\n",
       "      <td>Salud pública</td>\n",
       "      <td>Planeación estratégica en salud</td>\n",
       "    </tr>\n",
       "    <tr>\n",
       "      <th>4</th>\n",
       "      <td>Admon Fin.</td>\n",
       "      <td>Sin clase</td>\n",
       "      <td>Sin clase</td>\n",
       "      <td>Sin clase</td>\n",
       "      <td>Sin clase</td>\n",
       "      <td>Sin clase</td>\n",
       "      <td>Sin clase</td>\n",
       "      <td>Sin clase</td>\n",
       "      <td>Sin clase</td>\n",
       "      <td>Sin clase</td>\n",
       "      <td>...</td>\n",
       "      <td>Decisión y Análisis de Inversión</td>\n",
       "      <td>Decisión de Financiamiento y Pago de Dividendos</td>\n",
       "      <td>Análisis de Estados Financieros</td>\n",
       "      <td>Estrategias de negocios</td>\n",
       "      <td>Planeación Financiera y Administración del Cap...</td>\n",
       "      <td>Decisión y Análisis de Inversión</td>\n",
       "      <td>Decisión de Financiamiento y Pago de Dividendos</td>\n",
       "      <td>Análisis de Estados Financieros</td>\n",
       "      <td>Estrategias de negocios</td>\n",
       "      <td>Planeación Financiera y Administración del Cap...</td>\n",
       "    </tr>\n",
       "  </tbody>\n",
       "</table>\n",
       "<p>5 rows × 29 columns</p>\n",
       "</div>"
      ],
      "text/plain": [
       "                  reducido  2017 - 03  2017 - 04  2017 - 05  2017 - 06  \\\n",
       "0  Act. Derecho Contratual  Sin clase  Sin clase  Sin clase  Sin clase   \n",
       "1                Adm. Emp.  Sin clase  Sin clase  Sin clase  Sin clase   \n",
       "2             Adm. Riesgos  Sin clase  Sin clase  Sin clase  Sin clase   \n",
       "3               Adm. Salud  Sin clase  Sin clase  Sin clase  Sin clase   \n",
       "4               Admon Fin.  Sin clase  Sin clase  Sin clase  Sin clase   \n",
       "\n",
       "   2017 - 07  2017 - 08  2018 - 01  2018 - 02  2018 - 03  ...  \\\n",
       "0  Sin clase  Sin clase  Sin clase  Sin clase  Sin clase  ...   \n",
       "1  Sin clase  Sin clase  Sin clase  Sin clase  Sin clase  ...   \n",
       "2  Sin clase  Sin clase  Sin clase  Sin clase  Sin clase  ...   \n",
       "3  Sin clase  Sin clase  Sin clase  Sin clase  Sin clase  ...   \n",
       "4  Sin clase  Sin clase  Sin clase  Sin clase  Sin clase  ...   \n",
       "\n",
       "                          2019 - 05  \\\n",
       "0                         Sin clase   \n",
       "1         Mercadotecnia Estratégica   \n",
       "2             Riesgos empresariales   \n",
       "3                  Calidad en salud   \n",
       "4  Decisión y Análisis de Inversión   \n",
       "\n",
       "                                         2019 - 06  \\\n",
       "0                                        Sin clase   \n",
       "1           Contabilidad Financiera y Presupuestos   \n",
       "2           Contabilidad Financiera y Presupuestos   \n",
       "3           Contabilidad Financiera y Presupuestos   \n",
       "4  Decisión de Financiamiento y Pago de Dividendos   \n",
       "\n",
       "                         2019 - 07                2019 - 08  \\\n",
       "0                        Sin clase                Sin clase   \n",
       "1         Administración de costos                Impuestos   \n",
       "2        Administración de riesgos    Evaluación de Riesgos   \n",
       "3         Administración de costos            Salud pública   \n",
       "4  Análisis de Estados Financieros  Estrategias de negocios   \n",
       "\n",
       "                                           2020 - 01  \\\n",
       "0        Consentimiento y objeto digital contractual   \n",
       "1  Desafíos actuales en la Dirección del Capital ...   \n",
       "2                                 Toma de Decisiones   \n",
       "3                    Planeación estratégica en salud   \n",
       "4  Planeación Financiera y Administración del Cap...   \n",
       "\n",
       "                                         2020 - 02  \\\n",
       "0  Métodos alternos de resolución de controversias   \n",
       "1                        Mercadotecnia Estratégica   \n",
       "2                            Riesgos empresariales   \n",
       "3                                 Calidad en salud   \n",
       "4                 Decisión y Análisis de Inversión   \n",
       "\n",
       "                                         2020 - 03  \\\n",
       "0                  Nueva clasificación contractual   \n",
       "1           Contabilidad Financiera y Presupuestos   \n",
       "2           Contabilidad Financiera y Presupuestos   \n",
       "3           Contabilidad Financiera y Presupuestos   \n",
       "4  Decisión de Financiamiento y Pago de Dividendos   \n",
       "\n",
       "                             2020 - 04                2020 - 05  \\\n",
       "0  Nuevo derecho probatorio documental   Contratos inteligentes   \n",
       "1             Administración de costos                Impuestos   \n",
       "2            Administración de riesgos    Evaluación de Riesgos   \n",
       "3      Planeación estratégica en salud            Salud pública   \n",
       "4      Análisis de Estados Financieros  Estrategias de negocios   \n",
       "\n",
       "                                           2020 - 06  \n",
       "0        Consentimiento y objeto digital contractual  \n",
       "1  Desafíos actuales en la Dirección del Capital ...  \n",
       "2                                 Toma de Decisiones  \n",
       "3                    Planeación estratégica en salud  \n",
       "4  Planeación Financiera y Administración del Cap...  \n",
       "\n",
       "[5 rows x 29 columns]"
      ]
     },
     "execution_count": 3,
     "metadata": {},
     "output_type": "execute_result"
    }
   ],
   "source": [
    "#!wget --no-check-certificate --content-disposition https://raw.githubusercontent.com/vanderlei-test/dataset2/master/datasets/OrdenMaterias.csv\n",
    "df_orden_materias = pd.read_csv(r'OrdenMaterias.csv')\n",
    "df_orden_materias.head()"
   ]
  },
  {
   "cell_type": "code",
   "execution_count": 4,
   "metadata": {},
   "outputs": [],
   "source": [
    "for j in range(115):\n",
    "    primer=''\n",
    "    numero=0\n",
    "    for i in df_orden_materias.columns[1:]:\n",
    "        if df_orden_materias.loc[j,i]!='Sin clase' and numero==0:\n",
    "            primer=df_orden_materias.loc[j,i]\n",
    "            numero=1\n",
    "            df_orden_materias.loc[j,i]=numero\n",
    "            continue\n",
    "        \n",
    "        if df_orden_materias.loc[j,i]==primer:\n",
    "            numero=1\n",
    "            df_orden_materias.loc[j,i]=numero\n",
    "        elif (numero>=1) and (df_orden_materias.loc[j,i]!='Sin clase'):\n",
    "            numero=numero+1\n",
    "            df_orden_materias.loc[j,i]=numero\n",
    "        \n",
    "            \n",
    "        "
   ]
  },
  {
   "cell_type": "code",
   "execution_count": 5,
   "metadata": {},
   "outputs": [],
   "source": [
    "df_orden_materias=df_orden_materias.replace('Sin clase',0)"
   ]
  },
  {
   "cell_type": "code",
   "execution_count": 6,
   "metadata": {},
   "outputs": [
    {
     "data": {
      "text/plain": [
       "106     1\n",
       "83      2\n",
       "23      2\n",
       "55      2\n",
       "52      2\n",
       "       ..\n",
       "58      7\n",
       "56      9\n",
       "34     13\n",
       "103    16\n",
       "53     16\n",
       "Length: 115, dtype: int64"
      ]
     },
     "execution_count": 6,
     "metadata": {},
     "output_type": "execute_result"
    }
   ],
   "source": [
    "df_orden_materias.max(axis=1).sort_values(axis=0)"
   ]
  },
  {
   "cell_type": "code",
   "execution_count": 7,
   "metadata": {},
   "outputs": [],
   "source": [
    "#materias_T=df_orden_materias.transpose()"
   ]
  },
  {
   "cell_type": "code",
   "execution_count": 8,
   "metadata": {},
   "outputs": [],
   "source": [
    "#materias_T=materias_T.iloc[1:,:]"
   ]
  },
  {
   "cell_type": "code",
   "execution_count": 9,
   "metadata": {},
   "outputs": [],
   "source": [
    "#from sklearn.preprocessing import LabelEncoder\n",
    "#le = LabelEncoder()\n",
    "\n",
    "#for i in range(115):\n",
    "#    le.fit(materias_T.iloc[:,i])\n",
    "#    materias_T.iloc[:,i]=le.transform(materias_T.iloc[:,i])"
   ]
  },
  {
   "cell_type": "code",
   "execution_count": 10,
   "metadata": {},
   "outputs": [],
   "source": [
    "#df_orden_materias.iloc[:,1:]=materias_T.transpose()"
   ]
  },
  {
   "cell_type": "code",
   "execution_count": 11,
   "metadata": {},
   "outputs": [],
   "source": [
    "#df_orden_materias.head()"
   ]
  },
  {
   "cell_type": "code",
   "execution_count": 12,
   "metadata": {},
   "outputs": [],
   "source": [
    "materias=pd.melt(df_orden_materias,id_vars=df_orden_materias.columns[0],value_vars=list(df_orden_materias.columns[1:]))"
   ]
  },
  {
   "cell_type": "code",
   "execution_count": 13,
   "metadata": {},
   "outputs": [
    {
     "data": {
      "text/html": [
       "<div>\n",
       "<style scoped>\n",
       "    .dataframe tbody tr th:only-of-type {\n",
       "        vertical-align: middle;\n",
       "    }\n",
       "\n",
       "    .dataframe tbody tr th {\n",
       "        vertical-align: top;\n",
       "    }\n",
       "\n",
       "    .dataframe thead th {\n",
       "        text-align: right;\n",
       "    }\n",
       "</style>\n",
       "<table border=\"1\" class=\"dataframe\">\n",
       "  <thead>\n",
       "    <tr style=\"text-align: right;\">\n",
       "      <th></th>\n",
       "      <th>reducido</th>\n",
       "      <th>variable</th>\n",
       "      <th>value</th>\n",
       "    </tr>\n",
       "  </thead>\n",
       "  <tbody>\n",
       "    <tr>\n",
       "      <th>0</th>\n",
       "      <td>Act. Derecho Contratual</td>\n",
       "      <td>2017 - 03</td>\n",
       "      <td>0</td>\n",
       "    </tr>\n",
       "    <tr>\n",
       "      <th>1</th>\n",
       "      <td>Adm. Emp.</td>\n",
       "      <td>2017 - 03</td>\n",
       "      <td>0</td>\n",
       "    </tr>\n",
       "    <tr>\n",
       "      <th>2</th>\n",
       "      <td>Adm. Riesgos</td>\n",
       "      <td>2017 - 03</td>\n",
       "      <td>0</td>\n",
       "    </tr>\n",
       "    <tr>\n",
       "      <th>3</th>\n",
       "      <td>Adm. Salud</td>\n",
       "      <td>2017 - 03</td>\n",
       "      <td>0</td>\n",
       "    </tr>\n",
       "    <tr>\n",
       "      <th>4</th>\n",
       "      <td>Admon Fin.</td>\n",
       "      <td>2017 - 03</td>\n",
       "      <td>0</td>\n",
       "    </tr>\n",
       "  </tbody>\n",
       "</table>\n",
       "</div>"
      ],
      "text/plain": [
       "                  reducido   variable  value\n",
       "0  Act. Derecho Contratual  2017 - 03      0\n",
       "1                Adm. Emp.  2017 - 03      0\n",
       "2             Adm. Riesgos  2017 - 03      0\n",
       "3               Adm. Salud  2017 - 03      0\n",
       "4               Admon Fin.  2017 - 03      0"
      ]
     },
     "execution_count": 13,
     "metadata": {},
     "output_type": "execute_result"
    }
   ],
   "source": [
    "materias.head()"
   ]
  },
  {
   "cell_type": "code",
   "execution_count": 14,
   "metadata": {},
   "outputs": [
    {
     "data": {
      "text/html": [
       "<div>\n",
       "<style scoped>\n",
       "    .dataframe tbody tr th:only-of-type {\n",
       "        vertical-align: middle;\n",
       "    }\n",
       "\n",
       "    .dataframe tbody tr th {\n",
       "        vertical-align: top;\n",
       "    }\n",
       "\n",
       "    .dataframe thead th {\n",
       "        text-align: right;\n",
       "    }\n",
       "</style>\n",
       "<table border=\"1\" class=\"dataframe\">\n",
       "  <thead>\n",
       "    <tr style=\"text-align: right;\">\n",
       "      <th></th>\n",
       "      <th>studentId</th>\n",
       "      <th>ciclo</th>\n",
       "      <th>Dias_Conectado</th>\n",
       "      <th>Minutos_Promedio</th>\n",
       "      <th>Minutos_Total</th>\n",
       "    </tr>\n",
       "  </thead>\n",
       "  <tbody>\n",
       "    <tr>\n",
       "      <th>0</th>\n",
       "      <td>45870</td>\n",
       "      <td>2017 - 03</td>\n",
       "      <td>10.0</td>\n",
       "      <td>76.957000</td>\n",
       "      <td>769.57</td>\n",
       "    </tr>\n",
       "    <tr>\n",
       "      <th>1</th>\n",
       "      <td>45898</td>\n",
       "      <td>2017 - 03</td>\n",
       "      <td>32.0</td>\n",
       "      <td>370.231250</td>\n",
       "      <td>11847.40</td>\n",
       "    </tr>\n",
       "    <tr>\n",
       "      <th>2</th>\n",
       "      <td>45905</td>\n",
       "      <td>2017 - 03</td>\n",
       "      <td>50.0</td>\n",
       "      <td>198.717400</td>\n",
       "      <td>9935.87</td>\n",
       "    </tr>\n",
       "    <tr>\n",
       "      <th>3</th>\n",
       "      <td>45931</td>\n",
       "      <td>2017 - 03</td>\n",
       "      <td>22.0</td>\n",
       "      <td>294.535909</td>\n",
       "      <td>6479.79</td>\n",
       "    </tr>\n",
       "    <tr>\n",
       "      <th>4</th>\n",
       "      <td>45933</td>\n",
       "      <td>2017 - 03</td>\n",
       "      <td>18.0</td>\n",
       "      <td>177.991667</td>\n",
       "      <td>3203.85</td>\n",
       "    </tr>\n",
       "  </tbody>\n",
       "</table>\n",
       "</div>"
      ],
      "text/plain": [
       "   studentId      ciclo  Dias_Conectado  Minutos_Promedio  Minutos_Total\n",
       "0      45870  2017 - 03            10.0         76.957000         769.57\n",
       "1      45898  2017 - 03            32.0        370.231250       11847.40\n",
       "2      45905  2017 - 03            50.0        198.717400        9935.87\n",
       "3      45931  2017 - 03            22.0        294.535909        6479.79\n",
       "4      45933  2017 - 03            18.0        177.991667        3203.85"
      ]
     },
     "execution_count": 14,
     "metadata": {},
     "output_type": "execute_result"
    }
   ],
   "source": [
    "#!wget --no-check-certificate --content-disposition https://raw.githubusercontent.com/vanderlei-test/dataset2/master/datasets/TablaConexiones.csv\n",
    "df_tabla_conexiones = pd.read_csv(r'TablaConexiones.csv')\n",
    "df_tabla_conexiones.head()"
   ]
  },
  {
   "cell_type": "code",
   "execution_count": 15,
   "metadata": {},
   "outputs": [
    {
     "data": {
      "text/html": [
       "<div>\n",
       "<style scoped>\n",
       "    .dataframe tbody tr th:only-of-type {\n",
       "        vertical-align: middle;\n",
       "    }\n",
       "\n",
       "    .dataframe tbody tr th {\n",
       "        vertical-align: top;\n",
       "    }\n",
       "\n",
       "    .dataframe thead th {\n",
       "        text-align: right;\n",
       "    }\n",
       "</style>\n",
       "<table border=\"1\" class=\"dataframe\">\n",
       "  <thead>\n",
       "    <tr style=\"text-align: right;\">\n",
       "      <th></th>\n",
       "      <th>studentId</th>\n",
       "      <th>ciclo</th>\n",
       "      <th>Calificacion_Promedio</th>\n",
       "      <th>Tareas_Puntuales</th>\n",
       "      <th>Tareas_No_Entregadas</th>\n",
       "      <th>Tareas_Retrasadas</th>\n",
       "      <th>Total_Tareas</th>\n",
       "    </tr>\n",
       "  </thead>\n",
       "  <tbody>\n",
       "    <tr>\n",
       "      <th>0</th>\n",
       "      <td>81328.0</td>\n",
       "      <td>2019 - 05</td>\n",
       "      <td>99.000000</td>\n",
       "      <td>10.0</td>\n",
       "      <td>0.0</td>\n",
       "      <td>0.0</td>\n",
       "      <td>10.0</td>\n",
       "    </tr>\n",
       "    <tr>\n",
       "      <th>1</th>\n",
       "      <td>99206.0</td>\n",
       "      <td>2020 - 02</td>\n",
       "      <td>80.777500</td>\n",
       "      <td>10.0</td>\n",
       "      <td>2.0</td>\n",
       "      <td>0.0</td>\n",
       "      <td>12.0</td>\n",
       "    </tr>\n",
       "    <tr>\n",
       "      <th>2</th>\n",
       "      <td>94582.0</td>\n",
       "      <td>2020 - 01</td>\n",
       "      <td>79.666000</td>\n",
       "      <td>10.0</td>\n",
       "      <td>0.0</td>\n",
       "      <td>0.0</td>\n",
       "      <td>10.0</td>\n",
       "    </tr>\n",
       "    <tr>\n",
       "      <th>3</th>\n",
       "      <td>87564.0</td>\n",
       "      <td>2019 - 07</td>\n",
       "      <td>0.000000</td>\n",
       "      <td>0.0</td>\n",
       "      <td>15.0</td>\n",
       "      <td>0.0</td>\n",
       "      <td>15.0</td>\n",
       "    </tr>\n",
       "    <tr>\n",
       "      <th>4</th>\n",
       "      <td>87971.0</td>\n",
       "      <td>2019 - 08</td>\n",
       "      <td>36.363636</td>\n",
       "      <td>5.0</td>\n",
       "      <td>6.0</td>\n",
       "      <td>0.0</td>\n",
       "      <td>11.0</td>\n",
       "    </tr>\n",
       "  </tbody>\n",
       "</table>\n",
       "</div>"
      ],
      "text/plain": [
       "   studentId      ciclo  Calificacion_Promedio  Tareas_Puntuales  \\\n",
       "0    81328.0  2019 - 05              99.000000              10.0   \n",
       "1    99206.0  2020 - 02              80.777500              10.0   \n",
       "2    94582.0  2020 - 01              79.666000              10.0   \n",
       "3    87564.0  2019 - 07               0.000000               0.0   \n",
       "4    87971.0  2019 - 08              36.363636               5.0   \n",
       "\n",
       "   Tareas_No_Entregadas  Tareas_Retrasadas  Total_Tareas  \n",
       "0                   0.0                0.0          10.0  \n",
       "1                   2.0                0.0          12.0  \n",
       "2                   0.0                0.0          10.0  \n",
       "3                  15.0                0.0          15.0  \n",
       "4                   6.0                0.0          11.0  "
      ]
     },
     "execution_count": 15,
     "metadata": {},
     "output_type": "execute_result"
    }
   ],
   "source": [
    "#!wget --no-check-certificate --content-disposition https://raw.githubusercontent.com/vanderlei-test/dataset2/master/datasets/TablaTareas.csv\n",
    "df_tabla_tareas = pd.read_csv(r'TablaTareas.csv')\n",
    "df_tabla_tareas.head()"
   ]
  },
  {
   "cell_type": "markdown",
   "metadata": {},
   "source": [
    "Overview del Dataset:\n",
    "\n",
    "    Disponibles para el participante, ecisten 4 tables cargas en DataFrames anteriormente:\n",
    "    \n",
    "    **df_base_for_training**\n",
    "        - ``studentId``\n",
    "        ``reducido``\n",
    "        ``ciclo``\n",
    "        ``Graduado`` --> ¡LA VARIABLE OBJETIVO PARA CLASIFICACIÓN BINARIA!\n",
    "        \n",
    "    **df_orden_materias**\n",
    "        ``reducido``\n",
    "        ``2017 - 03``\n",
    "        ``2017 - 04``\n",
    "        ``2017 - 05``\n",
    "        ``2017 - 06``\n",
    "        ``2017 - 07``\n",
    "        ``2017 - 08``\n",
    "        ``2018 - 01``\n",
    "        ``2018 - 02``\n",
    "        ``2018 - 03``\n",
    "        ``2018 - 04``\n",
    "        ``2018 - 05``\n",
    "        ``2018 - 06``\n",
    "        ``2018 - 07``\n",
    "        ``2018 - 08``\n",
    "        ``2019 - 01``\n",
    "        ``2019 - 02``\n",
    "        ``2019 - 03``\n",
    "        ``2019 - 04``\n",
    "        ``2019 - 05``\n",
    "        ``2019 - 06``\n",
    "        ``2019 - 07``\n",
    "        ``2019 - 08``\n",
    "        ``2020 - 01``\n",
    "        ``2020 - 02``\n",
    "        ``2020 - 03``\n",
    "        ``2020 - 04``\n",
    "        ``2020 - 05``\n",
    "        ``2020 - 06``\n",
    "        \n",
    "    **df_tabla_conexiones**\n",
    "        - ``studentId``\n",
    "        ``ciclo``\n",
    "        ``Dias_Conectado``\n",
    "        ``Minutos_Promedio``\n",
    "        ``Minutos_Total``\n",
    "        \n",
    "    **df_tabla_tareas**\n",
    "        - ``studentId``\n",
    "        ``ciclo``\n",
    "        ``Calificacion_Promedio``\n",
    "        ``Tareas_Puntuales``\n",
    "        ``Tareas_No_Entregadas``\n",
    "        ``Tareas_Retrasadas``\n",
    "        ``Total_Tareas``\n",
    "        \n",
    "Observe que la variable ``studentId`` aparece en varias tablas.\n",
    "\n",
    "Usted puede combinar/merge estos datasets como usted desee."
   ]
  },
  {
   "cell_type": "code",
   "execution_count": 16,
   "metadata": {},
   "outputs": [
    {
     "name": "stdout",
     "output_type": "stream",
     "text": [
      "Columnas en *df_base_for_training*:\n",
      "Index(['studentId', 'reducido', 'ciclo', 'Graduado'], dtype='object')\n",
      "\\Columnas en *df_orden_materias*:\n",
      "Index(['reducido', '2017 - 03', '2017 - 04', '2017 - 05', '2017 - 06',\n",
      "       '2017 - 07', '2017 - 08', '2018 - 01', '2018 - 02', '2018 - 03',\n",
      "       '2018 - 04', '2018 - 05', '2018 - 06', '2018 - 07', '2018 - 08',\n",
      "       '2019 - 01', '2019 - 02', '2019 - 03', '2019 - 04', '2019 - 05',\n",
      "       '2019 - 06', '2019 - 07', '2019 - 08', '2020 - 01', '2020 - 02',\n",
      "       '2020 - 03', '2020 - 04', '2020 - 05', '2020 - 06'],\n",
      "      dtype='object')\n",
      "\\Columnas en *df_tabla_conexiones*:\n",
      "Index(['studentId', 'ciclo', 'Dias_Conectado', 'Minutos_Promedio',\n",
      "       'Minutos_Total'],\n",
      "      dtype='object')\n",
      "\\Columnas en *df_tabla_tareas*:\n",
      "Index(['studentId', 'ciclo', 'Calificacion_Promedio', 'Tareas_Puntuales',\n",
      "       'Tareas_No_Entregadas', 'Tareas_Retrasadas', 'Total_Tareas'],\n",
      "      dtype='object')\n"
     ]
    }
   ],
   "source": [
    "print(\"Columnas en *df_base_for_training*:\")\n",
    "print(df_base_for_training.columns)\n",
    "\n",
    "print(\"\\Columnas en *df_orden_materias*:\")\n",
    "print(df_orden_materias.columns)\n",
    "\n",
    "print(\"\\Columnas en *df_tabla_conexiones*:\")\n",
    "print(df_tabla_conexiones.columns)\n",
    "\n",
    "print(\"\\Columnas en *df_tabla_tareas*:\")\n",
    "print(df_tabla_tareas.columns)"
   ]
  },
  {
   "cell_type": "code",
   "execution_count": 17,
   "metadata": {},
   "outputs": [
    {
     "data": {
      "text/html": [
       "<div>\n",
       "<style scoped>\n",
       "    .dataframe tbody tr th:only-of-type {\n",
       "        vertical-align: middle;\n",
       "    }\n",
       "\n",
       "    .dataframe tbody tr th {\n",
       "        vertical-align: top;\n",
       "    }\n",
       "\n",
       "    .dataframe thead th {\n",
       "        text-align: right;\n",
       "    }\n",
       "</style>\n",
       "<table border=\"1\" class=\"dataframe\">\n",
       "  <thead>\n",
       "    <tr style=\"text-align: right;\">\n",
       "      <th></th>\n",
       "      <th>studentId</th>\n",
       "      <th>reducido</th>\n",
       "      <th>ciclo</th>\n",
       "      <th>Graduado</th>\n",
       "    </tr>\n",
       "  </thead>\n",
       "  <tbody>\n",
       "    <tr>\n",
       "      <th>17</th>\n",
       "      <td>70566.0</td>\n",
       "      <td>Neuromarketing</td>\n",
       "      <td>2019 - 01</td>\n",
       "      <td>Si</td>\n",
       "    </tr>\n",
       "    <tr>\n",
       "      <th>130</th>\n",
       "      <td>71811.0</td>\n",
       "      <td>Neuromarketing</td>\n",
       "      <td>2019 - 01</td>\n",
       "      <td>Si</td>\n",
       "    </tr>\n",
       "    <tr>\n",
       "      <th>192</th>\n",
       "      <td>81400.0</td>\n",
       "      <td>Neuromarketing</td>\n",
       "      <td>2019 - 05</td>\n",
       "      <td>Si</td>\n",
       "    </tr>\n",
       "    <tr>\n",
       "      <th>304</th>\n",
       "      <td>70602.0</td>\n",
       "      <td>Neuromarketing</td>\n",
       "      <td>2019 - 01</td>\n",
       "      <td>Si</td>\n",
       "    </tr>\n",
       "    <tr>\n",
       "      <th>476</th>\n",
       "      <td>69045.0</td>\n",
       "      <td>Neuromarketing</td>\n",
       "      <td>2018 - 08</td>\n",
       "      <td>Si</td>\n",
       "    </tr>\n",
       "    <tr>\n",
       "      <th>559</th>\n",
       "      <td>81433.0</td>\n",
       "      <td>Neuromarketing</td>\n",
       "      <td>2019 - 06</td>\n",
       "      <td>Si</td>\n",
       "    </tr>\n",
       "    <tr>\n",
       "      <th>587</th>\n",
       "      <td>82294.0</td>\n",
       "      <td>Neuromarketing</td>\n",
       "      <td>2019 - 06</td>\n",
       "      <td>Si</td>\n",
       "    </tr>\n",
       "    <tr>\n",
       "      <th>1159</th>\n",
       "      <td>71029.0</td>\n",
       "      <td>Neuromarketing</td>\n",
       "      <td>2019 - 01</td>\n",
       "      <td>Si</td>\n",
       "    </tr>\n",
       "    <tr>\n",
       "      <th>1260</th>\n",
       "      <td>70420.0</td>\n",
       "      <td>Neuromarketing</td>\n",
       "      <td>2019 - 01</td>\n",
       "      <td>Si</td>\n",
       "    </tr>\n",
       "    <tr>\n",
       "      <th>1288</th>\n",
       "      <td>70526.0</td>\n",
       "      <td>Neuromarketing</td>\n",
       "      <td>2019 - 01</td>\n",
       "      <td>Si</td>\n",
       "    </tr>\n",
       "    <tr>\n",
       "      <th>1442</th>\n",
       "      <td>78955.0</td>\n",
       "      <td>Neuromarketing</td>\n",
       "      <td>2019 - 05</td>\n",
       "      <td>Si</td>\n",
       "    </tr>\n",
       "    <tr>\n",
       "      <th>1665</th>\n",
       "      <td>72462.0</td>\n",
       "      <td>Neuromarketing</td>\n",
       "      <td>2019 - 02</td>\n",
       "      <td>Si</td>\n",
       "    </tr>\n",
       "    <tr>\n",
       "      <th>1696</th>\n",
       "      <td>74546.0</td>\n",
       "      <td>Neuromarketing</td>\n",
       "      <td>2019 - 02</td>\n",
       "      <td>Si</td>\n",
       "    </tr>\n",
       "    <tr>\n",
       "      <th>1825</th>\n",
       "      <td>68226.0</td>\n",
       "      <td>Neuromarketing</td>\n",
       "      <td>2018 - 08</td>\n",
       "      <td>Si</td>\n",
       "    </tr>\n",
       "    <tr>\n",
       "      <th>1936</th>\n",
       "      <td>71566.0</td>\n",
       "      <td>Neuromarketing</td>\n",
       "      <td>2019 - 01</td>\n",
       "      <td>Si</td>\n",
       "    </tr>\n",
       "    <tr>\n",
       "      <th>1948</th>\n",
       "      <td>71027.0</td>\n",
       "      <td>Neuromarketing</td>\n",
       "      <td>2019 - 01</td>\n",
       "      <td>Si</td>\n",
       "    </tr>\n",
       "    <tr>\n",
       "      <th>2041</th>\n",
       "      <td>78850.0</td>\n",
       "      <td>Neuromarketing</td>\n",
       "      <td>2019 - 04</td>\n",
       "      <td>Si</td>\n",
       "    </tr>\n",
       "    <tr>\n",
       "      <th>2110</th>\n",
       "      <td>71858.0</td>\n",
       "      <td>Neuromarketing</td>\n",
       "      <td>2019 - 01</td>\n",
       "      <td>Si</td>\n",
       "    </tr>\n",
       "    <tr>\n",
       "      <th>2255</th>\n",
       "      <td>78921.0</td>\n",
       "      <td>Neuromarketing</td>\n",
       "      <td>2019 - 05</td>\n",
       "      <td>Si</td>\n",
       "    </tr>\n",
       "  </tbody>\n",
       "</table>\n",
       "</div>"
      ],
      "text/plain": [
       "      studentId        reducido      ciclo Graduado\n",
       "17      70566.0  Neuromarketing  2019 - 01       Si\n",
       "130     71811.0  Neuromarketing  2019 - 01       Si\n",
       "192     81400.0  Neuromarketing  2019 - 05       Si\n",
       "304     70602.0  Neuromarketing  2019 - 01       Si\n",
       "476     69045.0  Neuromarketing  2018 - 08       Si\n",
       "559     81433.0  Neuromarketing  2019 - 06       Si\n",
       "587     82294.0  Neuromarketing  2019 - 06       Si\n",
       "1159    71029.0  Neuromarketing  2019 - 01       Si\n",
       "1260    70420.0  Neuromarketing  2019 - 01       Si\n",
       "1288    70526.0  Neuromarketing  2019 - 01       Si\n",
       "1442    78955.0  Neuromarketing  2019 - 05       Si\n",
       "1665    72462.0  Neuromarketing  2019 - 02       Si\n",
       "1696    74546.0  Neuromarketing  2019 - 02       Si\n",
       "1825    68226.0  Neuromarketing  2018 - 08       Si\n",
       "1936    71566.0  Neuromarketing  2019 - 01       Si\n",
       "1948    71027.0  Neuromarketing  2019 - 01       Si\n",
       "2041    78850.0  Neuromarketing  2019 - 04       Si\n",
       "2110    71858.0  Neuromarketing  2019 - 01       Si\n",
       "2255    78921.0  Neuromarketing  2019 - 05       Si"
      ]
     },
     "execution_count": 17,
     "metadata": {},
     "output_type": "execute_result"
    }
   ],
   "source": [
    "df_base_for_training[(df_base_for_training.Graduado=='Si') & (df_base_for_training.reducido=='Neuromarketing')]"
   ]
  },
  {
   "cell_type": "code",
   "execution_count": 18,
   "metadata": {},
   "outputs": [
    {
     "data": {
      "text/plain": [
       "0       88588.0\n",
       "1       81135.0\n",
       "2       80926.0\n",
       "3       82415.0\n",
       "4       90082.0\n",
       "         ...   \n",
       "2495    89685.0\n",
       "2496    77590.0\n",
       "2497    57623.0\n",
       "2498    50018.0\n",
       "2499    88250.0\n",
       "Name: studentId, Length: 2500, dtype: float64"
      ]
     },
     "execution_count": 18,
     "metadata": {},
     "output_type": "execute_result"
    }
   ],
   "source": [
    "df_base_for_training.studentId"
   ]
  },
  {
   "cell_type": "markdown",
   "metadata": {},
   "source": [
    "#### ¡ATENCIÓN! La columna **target** es  ``Graduado``, presente en el DataFrame \"df_base_for_training\"."
   ]
  },
  {
   "cell_type": "markdown",
   "metadata": {},
   "source": [
    "<hr>"
   ]
  },
  {
   "cell_type": "markdown",
   "metadata": {},
   "source": [
    "## Uniendo DataFrames en Pandas\n",
    "\n",
    "Documentación oficial para Pandas 1.1.0: https://pandas.pydata.org/pandas-docs/stable/user_guide/merging.html"
   ]
  },
  {
   "cell_type": "markdown",
   "metadata": {},
   "source": [
    "Como un **ejemplo** de como usar Pandas, camos a unir/merge la información de las tablas \"df_base_for_training\" y \"df_tabla_tareas\" a traves de la llave ``studentId``.\n",
    "\n",
    "Usted puee editar el dataframes manualmente si lo prefiere, usando Microsoft Excel u otros lenguajes. Recuerde insertar la data procesada en IBM Cloud Pak for Data para que pueda entrenar su modelo."
   ]
  },
  {
   "cell_type": "code",
   "execution_count": 19,
   "metadata": {},
   "outputs": [
    {
     "data": {
      "text/html": [
       "<div>\n",
       "<style scoped>\n",
       "    .dataframe tbody tr th:only-of-type {\n",
       "        vertical-align: middle;\n",
       "    }\n",
       "\n",
       "    .dataframe tbody tr th {\n",
       "        vertical-align: top;\n",
       "    }\n",
       "\n",
       "    .dataframe thead th {\n",
       "        text-align: right;\n",
       "    }\n",
       "</style>\n",
       "<table border=\"1\" class=\"dataframe\">\n",
       "  <thead>\n",
       "    <tr style=\"text-align: right;\">\n",
       "      <th></th>\n",
       "      <th>studentId</th>\n",
       "      <th>reducido</th>\n",
       "      <th>ciclo</th>\n",
       "      <th>Graduado</th>\n",
       "    </tr>\n",
       "  </thead>\n",
       "  <tbody>\n",
       "    <tr>\n",
       "      <th>2495</th>\n",
       "      <td>89685.0</td>\n",
       "      <td>Estrat. Comercial</td>\n",
       "      <td>2019 - 08</td>\n",
       "      <td>No</td>\n",
       "    </tr>\n",
       "    <tr>\n",
       "      <th>2496</th>\n",
       "      <td>77590.0</td>\n",
       "      <td>Crianza Hijos</td>\n",
       "      <td>2019 - 06</td>\n",
       "      <td>Si</td>\n",
       "    </tr>\n",
       "    <tr>\n",
       "      <th>2497</th>\n",
       "      <td>57623.0</td>\n",
       "      <td>Mercadotecnia</td>\n",
       "      <td>2018 - 02</td>\n",
       "      <td>Si</td>\n",
       "    </tr>\n",
       "    <tr>\n",
       "      <th>2498</th>\n",
       "      <td>50018.0</td>\n",
       "      <td>Lider. Inst. Edu.</td>\n",
       "      <td>2017 - 05</td>\n",
       "      <td>No</td>\n",
       "    </tr>\n",
       "    <tr>\n",
       "      <th>2499</th>\n",
       "      <td>88250.0</td>\n",
       "      <td>Prof. Deportiva.</td>\n",
       "      <td>2019 - 08</td>\n",
       "      <td>No</td>\n",
       "    </tr>\n",
       "  </tbody>\n",
       "</table>\n",
       "</div>"
      ],
      "text/plain": [
       "      studentId           reducido      ciclo Graduado\n",
       "2495    89685.0  Estrat. Comercial  2019 - 08       No\n",
       "2496    77590.0      Crianza Hijos  2019 - 06       Si\n",
       "2497    57623.0      Mercadotecnia  2018 - 02       Si\n",
       "2498    50018.0  Lider. Inst. Edu.  2017 - 05       No\n",
       "2499    88250.0   Prof. Deportiva.  2019 - 08       No"
      ]
     },
     "execution_count": 19,
     "metadata": {},
     "output_type": "execute_result"
    }
   ],
   "source": [
    "df_base_for_training.tail()"
   ]
  },
  {
   "cell_type": "code",
   "execution_count": 20,
   "metadata": {},
   "outputs": [
    {
     "data": {
      "text/html": [
       "<div>\n",
       "<style scoped>\n",
       "    .dataframe tbody tr th:only-of-type {\n",
       "        vertical-align: middle;\n",
       "    }\n",
       "\n",
       "    .dataframe tbody tr th {\n",
       "        vertical-align: top;\n",
       "    }\n",
       "\n",
       "    .dataframe thead th {\n",
       "        text-align: right;\n",
       "    }\n",
       "</style>\n",
       "<table border=\"1\" class=\"dataframe\">\n",
       "  <thead>\n",
       "    <tr style=\"text-align: right;\">\n",
       "      <th></th>\n",
       "      <th>studentId</th>\n",
       "      <th>ciclo</th>\n",
       "      <th>Calificacion_Promedio</th>\n",
       "      <th>Tareas_Puntuales</th>\n",
       "      <th>Tareas_No_Entregadas</th>\n",
       "      <th>Tareas_Retrasadas</th>\n",
       "      <th>Total_Tareas</th>\n",
       "    </tr>\n",
       "  </thead>\n",
       "  <tbody>\n",
       "    <tr>\n",
       "      <th>6293</th>\n",
       "      <td>80467.0</td>\n",
       "      <td>2019 - 05</td>\n",
       "      <td>20.000000</td>\n",
       "      <td>1.0</td>\n",
       "      <td>4.0</td>\n",
       "      <td>0.0</td>\n",
       "      <td>5.0</td>\n",
       "    </tr>\n",
       "    <tr>\n",
       "      <th>6294</th>\n",
       "      <td>80249.0</td>\n",
       "      <td>2019 - 05</td>\n",
       "      <td>50.600000</td>\n",
       "      <td>3.0</td>\n",
       "      <td>2.0</td>\n",
       "      <td>0.0</td>\n",
       "      <td>5.0</td>\n",
       "    </tr>\n",
       "    <tr>\n",
       "      <th>6295</th>\n",
       "      <td>85857.0</td>\n",
       "      <td>2019 - 07</td>\n",
       "      <td>81.428571</td>\n",
       "      <td>13.0</td>\n",
       "      <td>1.0</td>\n",
       "      <td>0.0</td>\n",
       "      <td>14.0</td>\n",
       "    </tr>\n",
       "    <tr>\n",
       "      <th>6296</th>\n",
       "      <td>98880.0</td>\n",
       "      <td>2020 - 02</td>\n",
       "      <td>91.212727</td>\n",
       "      <td>11.0</td>\n",
       "      <td>0.0</td>\n",
       "      <td>0.0</td>\n",
       "      <td>11.0</td>\n",
       "    </tr>\n",
       "    <tr>\n",
       "      <th>6297</th>\n",
       "      <td>71859.0</td>\n",
       "      <td>2019 - 02</td>\n",
       "      <td>87.333000</td>\n",
       "      <td>10.0</td>\n",
       "      <td>0.0</td>\n",
       "      <td>0.0</td>\n",
       "      <td>10.0</td>\n",
       "    </tr>\n",
       "  </tbody>\n",
       "</table>\n",
       "</div>"
      ],
      "text/plain": [
       "      studentId      ciclo  Calificacion_Promedio  Tareas_Puntuales  \\\n",
       "6293    80467.0  2019 - 05              20.000000               1.0   \n",
       "6294    80249.0  2019 - 05              50.600000               3.0   \n",
       "6295    85857.0  2019 - 07              81.428571              13.0   \n",
       "6296    98880.0  2020 - 02              91.212727              11.0   \n",
       "6297    71859.0  2019 - 02              87.333000              10.0   \n",
       "\n",
       "      Tareas_No_Entregadas  Tareas_Retrasadas  Total_Tareas  \n",
       "6293                   4.0                0.0           5.0  \n",
       "6294                   2.0                0.0           5.0  \n",
       "6295                   1.0                0.0          14.0  \n",
       "6296                   0.0                0.0          11.0  \n",
       "6297                   0.0                0.0          10.0  "
      ]
     },
     "execution_count": 20,
     "metadata": {},
     "output_type": "execute_result"
    }
   ],
   "source": [
    "df_tabla_tareas.tail()"
   ]
  },
  {
   "cell_type": "code",
   "execution_count": 21,
   "metadata": {},
   "outputs": [
    {
     "data": {
      "text/html": [
       "<div>\n",
       "<style scoped>\n",
       "    .dataframe tbody tr th:only-of-type {\n",
       "        vertical-align: middle;\n",
       "    }\n",
       "\n",
       "    .dataframe tbody tr th {\n",
       "        vertical-align: top;\n",
       "    }\n",
       "\n",
       "    .dataframe thead th {\n",
       "        text-align: right;\n",
       "    }\n",
       "</style>\n",
       "<table border=\"1\" class=\"dataframe\">\n",
       "  <thead>\n",
       "    <tr style=\"text-align: right;\">\n",
       "      <th></th>\n",
       "      <th>studentId</th>\n",
       "      <th>reducido</th>\n",
       "      <th>ciclo</th>\n",
       "      <th>Graduado</th>\n",
       "      <th>Calificacion_Promedio</th>\n",
       "      <th>Tareas_Puntuales</th>\n",
       "      <th>Tareas_No_Entregadas</th>\n",
       "      <th>Tareas_Retrasadas</th>\n",
       "      <th>Total_Tareas</th>\n",
       "    </tr>\n",
       "  </thead>\n",
       "  <tbody>\n",
       "    <tr>\n",
       "      <th>2495</th>\n",
       "      <td>91320.0</td>\n",
       "      <td>Adm. Emp.</td>\n",
       "      <td>2019 - 08</td>\n",
       "      <td>No</td>\n",
       "      <td>71.818182</td>\n",
       "      <td>9.0</td>\n",
       "      <td>2.0</td>\n",
       "      <td>0.0</td>\n",
       "      <td>11.0</td>\n",
       "    </tr>\n",
       "    <tr>\n",
       "      <th>2496</th>\n",
       "      <td>91330.0</td>\n",
       "      <td>I. A.</td>\n",
       "      <td>2019 - 08</td>\n",
       "      <td>Si</td>\n",
       "      <td>81.333333</td>\n",
       "      <td>15.0</td>\n",
       "      <td>0.0</td>\n",
       "      <td>0.0</td>\n",
       "      <td>15.0</td>\n",
       "    </tr>\n",
       "    <tr>\n",
       "      <th>2497</th>\n",
       "      <td>91331.0</td>\n",
       "      <td>Gest. Esc.</td>\n",
       "      <td>2019 - 08</td>\n",
       "      <td>No</td>\n",
       "      <td>73.333333</td>\n",
       "      <td>9.0</td>\n",
       "      <td>0.0</td>\n",
       "      <td>0.0</td>\n",
       "      <td>9.0</td>\n",
       "    </tr>\n",
       "    <tr>\n",
       "      <th>2498</th>\n",
       "      <td>91335.0</td>\n",
       "      <td>Gest. Esc.</td>\n",
       "      <td>2019 - 08</td>\n",
       "      <td>Si</td>\n",
       "      <td>85.185556</td>\n",
       "      <td>9.0</td>\n",
       "      <td>0.0</td>\n",
       "      <td>0.0</td>\n",
       "      <td>9.0</td>\n",
       "    </tr>\n",
       "    <tr>\n",
       "      <th>2499</th>\n",
       "      <td>91346.0</td>\n",
       "      <td>Psicopat. Adol.</td>\n",
       "      <td>2019 - 08</td>\n",
       "      <td>No</td>\n",
       "      <td>80.159333</td>\n",
       "      <td>15.0</td>\n",
       "      <td>0.0</td>\n",
       "      <td>0.0</td>\n",
       "      <td>15.0</td>\n",
       "    </tr>\n",
       "  </tbody>\n",
       "</table>\n",
       "</div>"
      ],
      "text/plain": [
       "      studentId         reducido      ciclo Graduado  Calificacion_Promedio  \\\n",
       "2495    91320.0        Adm. Emp.  2019 - 08       No              71.818182   \n",
       "2496    91330.0            I. A.  2019 - 08       Si              81.333333   \n",
       "2497    91331.0       Gest. Esc.  2019 - 08       No              73.333333   \n",
       "2498    91335.0       Gest. Esc.  2019 - 08       Si              85.185556   \n",
       "2499    91346.0  Psicopat. Adol.  2019 - 08       No              80.159333   \n",
       "\n",
       "      Tareas_Puntuales  Tareas_No_Entregadas  Tareas_Retrasadas  Total_Tareas  \n",
       "2495               9.0                   2.0                0.0          11.0  \n",
       "2496              15.0                   0.0                0.0          15.0  \n",
       "2497               9.0                   0.0                0.0           9.0  \n",
       "2498               9.0                   0.0                0.0           9.0  \n",
       "2499              15.0                   0.0                0.0          15.0  "
      ]
     },
     "execution_count": 21,
     "metadata": {},
     "output_type": "execute_result"
    }
   ],
   "source": [
    "# El resultado de esta celda sera la union de los dos anteriores dataframes\n",
    "# usando la columna ``studentId`` como llave.\n",
    "\n",
    "df = pd.merge(\n",
    "    df_base_for_training, df_tabla_tareas, how='inner',\n",
    "    on=None, left_on=['studentId', 'ciclo'], right_on=['studentId', 'ciclo'],\n",
    "    left_index=False, right_index=False, sort=True,\n",
    "    suffixes=('_x', '_y'), copy=True, indicator=False,\n",
    "    validate=None\n",
    ")\n",
    "df.tail()"
   ]
  },
  {
   "cell_type": "code",
   "execution_count": 77,
   "metadata": {},
   "outputs": [
    {
     "data": {
      "text/html": [
       "<div>\n",
       "<style scoped>\n",
       "    .dataframe tbody tr th:only-of-type {\n",
       "        vertical-align: middle;\n",
       "    }\n",
       "\n",
       "    .dataframe tbody tr th {\n",
       "        vertical-align: top;\n",
       "    }\n",
       "\n",
       "    .dataframe thead th {\n",
       "        text-align: right;\n",
       "    }\n",
       "</style>\n",
       "<table border=\"1\" class=\"dataframe\">\n",
       "  <thead>\n",
       "    <tr style=\"text-align: right;\">\n",
       "      <th></th>\n",
       "      <th>studentId</th>\n",
       "      <th>reducido</th>\n",
       "      <th>ciclo</th>\n",
       "      <th>Calificacion_Promedio</th>\n",
       "      <th>Tareas_Puntuales</th>\n",
       "      <th>Tareas_No_Entregadas</th>\n",
       "      <th>Tareas_Retrasadas</th>\n",
       "      <th>Total_Tareas</th>\n",
       "    </tr>\n",
       "  </thead>\n",
       "  <tbody>\n",
       "    <tr>\n",
       "      <th>995</th>\n",
       "      <td>91291.0</td>\n",
       "      <td>Trastornos Alimen.</td>\n",
       "      <td>2019 - 08</td>\n",
       "      <td>0.000</td>\n",
       "      <td>0.0</td>\n",
       "      <td>12.0</td>\n",
       "      <td>0.0</td>\n",
       "      <td>12.0</td>\n",
       "    </tr>\n",
       "    <tr>\n",
       "      <th>996</th>\n",
       "      <td>91312.0</td>\n",
       "      <td>Marca Personal</td>\n",
       "      <td>2019 - 08</td>\n",
       "      <td>76.580</td>\n",
       "      <td>5.0</td>\n",
       "      <td>0.0</td>\n",
       "      <td>0.0</td>\n",
       "      <td>5.0</td>\n",
       "    </tr>\n",
       "    <tr>\n",
       "      <th>997</th>\n",
       "      <td>91329.0</td>\n",
       "      <td>Adm. Salud</td>\n",
       "      <td>2019 - 08</td>\n",
       "      <td>86.410</td>\n",
       "      <td>13.0</td>\n",
       "      <td>0.0</td>\n",
       "      <td>0.0</td>\n",
       "      <td>13.0</td>\n",
       "    </tr>\n",
       "    <tr>\n",
       "      <th>998</th>\n",
       "      <td>91345.0</td>\n",
       "      <td>Direc. Proy.</td>\n",
       "      <td>2019 - 08</td>\n",
       "      <td>0.000</td>\n",
       "      <td>0.0</td>\n",
       "      <td>9.0</td>\n",
       "      <td>0.0</td>\n",
       "      <td>9.0</td>\n",
       "    </tr>\n",
       "    <tr>\n",
       "      <th>999</th>\n",
       "      <td>91437.0</td>\n",
       "      <td>Des. Neg. y Empren.</td>\n",
       "      <td>2019 - 08</td>\n",
       "      <td>75.024</td>\n",
       "      <td>15.0</td>\n",
       "      <td>0.0</td>\n",
       "      <td>0.0</td>\n",
       "      <td>15.0</td>\n",
       "    </tr>\n",
       "  </tbody>\n",
       "</table>\n",
       "</div>"
      ],
      "text/plain": [
       "     studentId             reducido      ciclo  Calificacion_Promedio  \\\n",
       "995    91291.0   Trastornos Alimen.  2019 - 08                  0.000   \n",
       "996    91312.0       Marca Personal  2019 - 08                 76.580   \n",
       "997    91329.0           Adm. Salud  2019 - 08                 86.410   \n",
       "998    91345.0         Direc. Proy.  2019 - 08                  0.000   \n",
       "999    91437.0  Des. Neg. y Empren.  2019 - 08                 75.024   \n",
       "\n",
       "     Tareas_Puntuales  Tareas_No_Entregadas  Tareas_Retrasadas  Total_Tareas  \n",
       "995               0.0                  12.0                0.0          12.0  \n",
       "996               5.0                   0.0                0.0           5.0  \n",
       "997              13.0                   0.0                0.0          13.0  \n",
       "998               0.0                   9.0                0.0           9.0  \n",
       "999              15.0                   0.0                0.0          15.0  "
      ]
     },
     "execution_count": 77,
     "metadata": {},
     "output_type": "execute_result"
    }
   ],
   "source": [
    "\n",
    "df2 = pd.merge(\n",
    "    df2, df_tabla_tareas, how='inner',\n",
    "    on=None, left_on=['studentId', 'ciclo'], right_on=['studentId', 'ciclo'],\n",
    "    left_index=False, right_index=False, sort=True,\n",
    "    suffixes=('_x', '_y'), copy=True, indicator=False,\n",
    "    validate=None\n",
    ")\n",
    "df2.tail()"
   ]
  },
  {
   "cell_type": "code",
   "execution_count": 78,
   "metadata": {},
   "outputs": [
    {
     "name": "stdout",
     "output_type": "stream",
     "text": [
      "<class 'pandas.core.frame.DataFrame'>\n",
      "RangeIndex: 2500 entries, 0 to 2499\n",
      "Data columns (total 18 columns):\n",
      " #   Column                 Non-Null Count  Dtype  \n",
      "---  ------                 --------------  -----  \n",
      " 0   reducido               2500 non-null   int32  \n",
      " 1   Graduado               2500 non-null   object \n",
      " 2   Calificacion_Promedio  2500 non-null   float64\n",
      " 3   Tareas_Puntuales       2500 non-null   float64\n",
      " 4   Tareas_No_Entregadas   2500 non-null   float64\n",
      " 5   Tareas_Retrasadas      2500 non-null   float64\n",
      " 6   Total_Tareas           2500 non-null   float64\n",
      " 7   Dias_Conectado         2500 non-null   float64\n",
      " 8   Minutos_Promedio       2500 non-null   float64\n",
      " 9   Minutos_Total          2500 non-null   float64\n",
      " 10  value                  2500 non-null   int64  \n",
      " 11  ratio_puntuales        2500 non-null   float64\n",
      " 12  ratio_no_entregadas    2500 non-null   float64\n",
      " 13  ratio_retrasadas       2500 non-null   float64\n",
      " 14  puntaje_total          2500 non-null   float64\n",
      " 15  puntaje_conexiones     2500 non-null   float64\n",
      " 16  anio_ciclo             2500 non-null   int32  \n",
      " 17  mes_ciclo              2500 non-null   int32  \n",
      "dtypes: float64(13), int32(3), int64(1), object(1)\n",
      "memory usage: 322.4+ KB\n"
     ]
    }
   ],
   "source": [
    "df.info()"
   ]
  },
  {
   "cell_type": "code",
   "execution_count": 23,
   "metadata": {},
   "outputs": [],
   "source": [
    "df=pd.merge(\n",
    "df,df_tabla_conexiones,how='inner',\n",
    "on=['studentId','ciclo'])"
   ]
  },
  {
   "cell_type": "code",
   "execution_count": 79,
   "metadata": {},
   "outputs": [],
   "source": [
    "df2=pd.merge(\n",
    "df2,df_tabla_conexiones,how='inner',\n",
    "on=['studentId','ciclo'])"
   ]
  },
  {
   "cell_type": "code",
   "execution_count": 24,
   "metadata": {},
   "outputs": [
    {
     "name": "stdout",
     "output_type": "stream",
     "text": [
      "<class 'pandas.core.frame.DataFrame'>\n",
      "Int64Index: 2500 entries, 0 to 2499\n",
      "Data columns (total 12 columns):\n",
      " #   Column                 Non-Null Count  Dtype  \n",
      "---  ------                 --------------  -----  \n",
      " 0   studentId              2500 non-null   float64\n",
      " 1   reducido               2500 non-null   object \n",
      " 2   ciclo                  2500 non-null   object \n",
      " 3   Graduado               2500 non-null   object \n",
      " 4   Calificacion_Promedio  2500 non-null   float64\n",
      " 5   Tareas_Puntuales       2500 non-null   float64\n",
      " 6   Tareas_No_Entregadas   2500 non-null   float64\n",
      " 7   Tareas_Retrasadas      2500 non-null   float64\n",
      " 8   Total_Tareas           2500 non-null   float64\n",
      " 9   Dias_Conectado         2500 non-null   float64\n",
      " 10  Minutos_Promedio       2500 non-null   float64\n",
      " 11  Minutos_Total          2500 non-null   float64\n",
      "dtypes: float64(9), object(3)\n",
      "memory usage: 253.9+ KB\n"
     ]
    }
   ],
   "source": [
    "# Información acerca de las columnas del dataset unido\n",
    "df.info()"
   ]
  },
  {
   "cell_type": "code",
   "execution_count": 25,
   "metadata": {},
   "outputs": [],
   "source": [
    "df=pd.merge(\n",
    "df,materias,how='inner',\n",
    "left_on=['reducido','ciclo'],right_on=['reducido','variable']\n",
    ")"
   ]
  },
  {
   "cell_type": "code",
   "execution_count": 80,
   "metadata": {},
   "outputs": [],
   "source": [
    "df2=pd.merge(\n",
    "df2,materias,how='inner',\n",
    "left_on=['reducido','ciclo'],right_on=['reducido','variable']\n",
    ")"
   ]
  },
  {
   "cell_type": "code",
   "execution_count": 26,
   "metadata": {},
   "outputs": [],
   "source": [
    "df=df.drop(columns=['variable'])"
   ]
  },
  {
   "cell_type": "code",
   "execution_count": 81,
   "metadata": {},
   "outputs": [],
   "source": [
    "df2=df2.drop(columns=['variable'])"
   ]
  },
  {
   "cell_type": "code",
   "execution_count": 27,
   "metadata": {},
   "outputs": [
    {
     "name": "stdout",
     "output_type": "stream",
     "text": [
      "<class 'pandas.core.frame.DataFrame'>\n",
      "Int64Index: 2500 entries, 0 to 2499\n",
      "Data columns (total 13 columns):\n",
      " #   Column                 Non-Null Count  Dtype  \n",
      "---  ------                 --------------  -----  \n",
      " 0   studentId              2500 non-null   float64\n",
      " 1   reducido               2500 non-null   object \n",
      " 2   ciclo                  2500 non-null   object \n",
      " 3   Graduado               2500 non-null   object \n",
      " 4   Calificacion_Promedio  2500 non-null   float64\n",
      " 5   Tareas_Puntuales       2500 non-null   float64\n",
      " 6   Tareas_No_Entregadas   2500 non-null   float64\n",
      " 7   Tareas_Retrasadas      2500 non-null   float64\n",
      " 8   Total_Tareas           2500 non-null   float64\n",
      " 9   Dias_Conectado         2500 non-null   float64\n",
      " 10  Minutos_Promedio       2500 non-null   float64\n",
      " 11  Minutos_Total          2500 non-null   float64\n",
      " 12  value                  2500 non-null   int64  \n",
      "dtypes: float64(9), int64(1), object(3)\n",
      "memory usage: 273.4+ KB\n"
     ]
    }
   ],
   "source": [
    "df.info()"
   ]
  },
  {
   "cell_type": "markdown",
   "metadata": {},
   "source": [
    "De la información de arriba ud puede observar que hay valores Null/NaN en algunas de las columnas.\n",
    "\n",
    "Para que nuestro modelo quede bien entrenado necesitamos procesar estos valores nulos de una forma adecuada.\n",
    "\n",
    "Usted escogera la mejor estrategia como parte del desafío, pero en la siguiente celda encuentra un **ejemplo** the como puede hacer este procesamiento usanto la libreria *scikit-learn*.\n",
    "\n",
    "<hr>"
   ]
  },
  {
   "cell_type": "markdown",
   "metadata": {},
   "source": [
    "## Pre-procesando el dataset antes de entrenar"
   ]
  },
  {
   "cell_type": "markdown",
   "metadata": {},
   "source": [
    "### Borrando finlas con valores NaN"
   ]
  },
  {
   "cell_type": "markdown",
   "metadata": {},
   "source": [
    "Usando el metodo Pandas DataFrame.dropna() usted puede remover todas las filas que estan indefinidas para la columna ``Graduado``.\n",
    "\n",
    "Docs: https://pandas.pydata.org/pandas-docs/stable/reference/api/pandas.DataFrame.dropna.html"
   ]
  },
  {
   "cell_type": "code",
   "execution_count": 28,
   "metadata": {},
   "outputs": [
    {
     "name": "stdout",
     "output_type": "stream",
     "text": [
      "Valores nulos antes de la transformación DropNA: \n",
      "\n",
      "studentId                0\n",
      "reducido                 0\n",
      "ciclo                    0\n",
      "Graduado                 0\n",
      "Calificacion_Promedio    0\n",
      "Tareas_Puntuales         0\n",
      "Tareas_No_Entregadas     0\n",
      "Tareas_Retrasadas        0\n",
      "Total_Tareas             0\n",
      "Dias_Conectado           0\n",
      "Minutos_Promedio         0\n",
      "Minutos_Total            0\n",
      "value                    0\n",
      "dtype: int64\n",
      "\n"
     ]
    }
   ],
   "source": [
    "# Visualizando los datos faltantes del dataset antes de la primera transformación (df_data_2)\n",
    "print(\"Valores nulos antes de la transformación DropNA: \\n\\n{}\\n\".format(df.isnull().sum(axis = 0)))"
   ]
  },
  {
   "cell_type": "code",
   "execution_count": 82,
   "metadata": {},
   "outputs": [
    {
     "name": "stdout",
     "output_type": "stream",
     "text": [
      "Valores nulos antes de la transformación DropNA: \n",
      "\n",
      "studentId                0\n",
      "reducido                 0\n",
      "ciclo                    0\n",
      "Calificacion_Promedio    0\n",
      "Tareas_Puntuales         0\n",
      "Tareas_No_Entregadas     0\n",
      "Tareas_Retrasadas        0\n",
      "Total_Tareas             0\n",
      "Dias_Conectado           0\n",
      "Minutos_Promedio         0\n",
      "Minutos_Total            0\n",
      "value                    0\n",
      "dtype: int64\n",
      "\n"
     ]
    }
   ],
   "source": [
    "# Visualizando los datos faltantes del dataset antes de la primera transformación (df_data_2)\n",
    "print(\"Valores nulos antes de la transformación DropNA: \\n\\n{}\\n\".format(df2.isnull().sum(axis = 0)))"
   ]
  },
  {
   "cell_type": "code",
   "execution_count": 29,
   "metadata": {},
   "outputs": [],
   "source": [
    "# Aplicando la función para borrar todas las filas con valor NaN en la columna ``Graduado``:\n",
    "df2 = df.dropna(axis='index', how='any', subset=['Graduado'])"
   ]
  },
  {
   "cell_type": "code",
   "execution_count": 30,
   "metadata": {},
   "outputs": [
    {
     "name": "stdout",
     "output_type": "stream",
     "text": [
      "Valores nulos antes de la transformación SimpleImputer: \n",
      "\n",
      "studentId                0\n",
      "reducido                 0\n",
      "ciclo                    0\n",
      "Graduado                 0\n",
      "Calificacion_Promedio    0\n",
      "Tareas_Puntuales         0\n",
      "Tareas_No_Entregadas     0\n",
      "Tareas_Retrasadas        0\n",
      "Total_Tareas             0\n",
      "Dias_Conectado           0\n",
      "Minutos_Promedio         0\n",
      "Minutos_Total            0\n",
      "value                    0\n",
      "dtype: int64\n",
      "\n"
     ]
    }
   ],
   "source": [
    "# Visualizando los datos faltantes del dataset antes de la primera transformación (SimpleImputer) (df_data_3)\n",
    "print(\"Valores nulos antes de la transformación SimpleImputer: \\n\\n{}\\n\".format(df2.isnull().sum(axis = 0)))"
   ]
  },
  {
   "cell_type": "markdown",
   "metadata": {},
   "source": [
    "### Procesando valores NaN con SimpleImputer de sklearn\n",
    "\n",
    "Para los otros valores NaN vamos a usar como **ejemplo** la sustitución por la constante 0. \n",
    "\n",
    "Usted puede escoger cualquier estrategia que crea que es la mejor para esto :)\n",
    "\n",
    "Docs: https://scikit-learn.org/stable/modules/generated/sklearn.impute.SimpleImputer.html?highlight=simpleimputer#sklearn.impute.SimpleImputer"
   ]
  },
  {
   "cell_type": "code",
   "execution_count": 31,
   "metadata": {},
   "outputs": [],
   "source": [
    "from sklearn.impute import SimpleImputer\n",
    "import numpy as np\n",
    "\n",
    "\n",
    "# Creando un objeto ``SimpleImputer``\n",
    "impute_zeros = SimpleImputer(\n",
    "    missing_values=np.nan,  # Los valores faltantes son de tipo ``np.nan`` (estandar Pandas)\n",
    "    strategy='constant',  # La estrategia escogida es reemplazar por una constante\n",
    "    fill_value=0,  # La constante que será usada para reemmplazar los valores faltantes es un int64=0.\n",
    "    verbose=0,\n",
    "    copy=True\n",
    ")"
   ]
  },
  {
   "cell_type": "code",
   "execution_count": 32,
   "metadata": {},
   "outputs": [
    {
     "name": "stdout",
     "output_type": "stream",
     "text": [
      "Valores nulos antes de transformación SimpleImputer: \n",
      "\n",
      "studentId                0\n",
      "reducido                 0\n",
      "ciclo                    0\n",
      "Graduado                 0\n",
      "Calificacion_Promedio    0\n",
      "Tareas_Puntuales         0\n",
      "Tareas_No_Entregadas     0\n",
      "Tareas_Retrasadas        0\n",
      "Total_Tareas             0\n",
      "Dias_Conectado           0\n",
      "Minutos_Promedio         0\n",
      "Minutos_Total            0\n",
      "value                    0\n",
      "dtype: int64\n",
      "\n",
      "Valores nulos del dataset despues de la transformación SimpleImputer: \n",
      "\n",
      "studentId                0\n",
      "reducido                 0\n",
      "ciclo                    0\n",
      "Graduado                 0\n",
      "Calificacion_Promedio    0\n",
      "Tareas_Puntuales         0\n",
      "Tareas_No_Entregadas     0\n",
      "Tareas_Retrasadas        0\n",
      "Total_Tareas             0\n",
      "Dias_Conectado           0\n",
      "Minutos_Promedio         0\n",
      "Minutos_Total            0\n",
      "value                    0\n",
      "dtype: int64\n",
      "\n"
     ]
    }
   ],
   "source": [
    "# Visualizando los datos faltantes del dataset antes de la segunda transformación (df_data_2)\n",
    "print(\"Valores nulos antes de transformación SimpleImputer: \\n\\n{}\\n\".format(df2.isnull().sum(axis = 0)))\n",
    "\n",
    "# Aplicar la transformación ``SimpleImputer`` en el conjunto de datos base\n",
    "impute_zeros.fit(X=df)\n",
    "\n",
    "# Reconstrucción del nuevo DataFrame Pandas (df_data_3)\n",
    "df = pd.DataFrame.from_records(\n",
    "    data=impute_zeros.transform(\n",
    "        X=df\n",
    "    ),  # El resultado SimpleImputer.transfor(<<pandas dataframe>>) es una lista de listas\n",
    "    columns=df.columns  # Las columnas originals deben ser conservadas en esta transformación\n",
    ")\n",
    "\n",
    "# Visualizndo los datos faltantes del dataset \n",
    "print(\"Valores nulos del dataset despues de la transformación SimpleImputer: \\n\\n{}\\n\".format(df.isnull().sum(axis = 0)))"
   ]
  },
  {
   "cell_type": "markdown",
   "metadata": {},
   "source": [
    "### Eliminando columnas no desadas\n",
    "\n",
    "Vamos a **demostrar** acontinuación como usar el metodo DataFrame.drop().\n",
    "\n",
    "Docs: https://pandas.pydata.org/pandas-docs/stable/reference/api/pandas.DataFrame.drop.html"
   ]
  },
  {
   "cell_type": "code",
   "execution_count": 33,
   "metadata": {},
   "outputs": [
    {
     "data": {
      "text/html": [
       "<div>\n",
       "<style scoped>\n",
       "    .dataframe tbody tr th:only-of-type {\n",
       "        vertical-align: middle;\n",
       "    }\n",
       "\n",
       "    .dataframe tbody tr th {\n",
       "        vertical-align: top;\n",
       "    }\n",
       "\n",
       "    .dataframe thead th {\n",
       "        text-align: right;\n",
       "    }\n",
       "</style>\n",
       "<table border=\"1\" class=\"dataframe\">\n",
       "  <thead>\n",
       "    <tr style=\"text-align: right;\">\n",
       "      <th></th>\n",
       "      <th>studentId</th>\n",
       "      <th>reducido</th>\n",
       "      <th>ciclo</th>\n",
       "      <th>Graduado</th>\n",
       "      <th>Calificacion_Promedio</th>\n",
       "      <th>Tareas_Puntuales</th>\n",
       "      <th>Tareas_No_Entregadas</th>\n",
       "      <th>Tareas_Retrasadas</th>\n",
       "      <th>Total_Tareas</th>\n",
       "      <th>Dias_Conectado</th>\n",
       "      <th>Minutos_Promedio</th>\n",
       "      <th>Minutos_Total</th>\n",
       "      <th>value</th>\n",
       "    </tr>\n",
       "  </thead>\n",
       "  <tbody>\n",
       "    <tr>\n",
       "      <th>2495</th>\n",
       "      <td>90194.0</td>\n",
       "      <td>Edu. Primaria</td>\n",
       "      <td>2019 - 08</td>\n",
       "      <td>No</td>\n",
       "      <td>34.616154</td>\n",
       "      <td>8.0</td>\n",
       "      <td>4.0</td>\n",
       "      <td>1.0</td>\n",
       "      <td>13.0</td>\n",
       "      <td>65.0</td>\n",
       "      <td>168.867846</td>\n",
       "      <td>10976.41</td>\n",
       "      <td>4</td>\n",
       "    </tr>\n",
       "    <tr>\n",
       "      <th>2496</th>\n",
       "      <td>90286.0</td>\n",
       "      <td>Inn. Diseno Edu.</td>\n",
       "      <td>2019 - 08</td>\n",
       "      <td>No</td>\n",
       "      <td>75.666000</td>\n",
       "      <td>9.0</td>\n",
       "      <td>1.0</td>\n",
       "      <td>0.0</td>\n",
       "      <td>10.0</td>\n",
       "      <td>32.0</td>\n",
       "      <td>270.669375</td>\n",
       "      <td>8661.42</td>\n",
       "      <td>1</td>\n",
       "    </tr>\n",
       "    <tr>\n",
       "      <th>2497</th>\n",
       "      <td>90945.0</td>\n",
       "      <td>Inn. Diseno Edu.</td>\n",
       "      <td>2019 - 08</td>\n",
       "      <td>Si</td>\n",
       "      <td>97.000000</td>\n",
       "      <td>10.0</td>\n",
       "      <td>0.0</td>\n",
       "      <td>0.0</td>\n",
       "      <td>10.0</td>\n",
       "      <td>80.0</td>\n",
       "      <td>257.695875</td>\n",
       "      <td>20615.67</td>\n",
       "      <td>1</td>\n",
       "    </tr>\n",
       "    <tr>\n",
       "      <th>2498</th>\n",
       "      <td>90312.0</td>\n",
       "      <td>Mkt. Farmaceutico A.</td>\n",
       "      <td>2019 - 08</td>\n",
       "      <td>Si</td>\n",
       "      <td>77.142857</td>\n",
       "      <td>13.0</td>\n",
       "      <td>1.0</td>\n",
       "      <td>0.0</td>\n",
       "      <td>14.0</td>\n",
       "      <td>61.0</td>\n",
       "      <td>368.980164</td>\n",
       "      <td>22507.79</td>\n",
       "      <td>5</td>\n",
       "    </tr>\n",
       "    <tr>\n",
       "      <th>2499</th>\n",
       "      <td>90599.0</td>\n",
       "      <td>Inn. Negocios</td>\n",
       "      <td>2019 - 08</td>\n",
       "      <td>No</td>\n",
       "      <td>72.000000</td>\n",
       "      <td>14.0</td>\n",
       "      <td>1.0</td>\n",
       "      <td>0.0</td>\n",
       "      <td>15.0</td>\n",
       "      <td>56.0</td>\n",
       "      <td>290.476071</td>\n",
       "      <td>16266.66</td>\n",
       "      <td>4</td>\n",
       "    </tr>\n",
       "  </tbody>\n",
       "</table>\n",
       "</div>"
      ],
      "text/plain": [
       "      studentId              reducido      ciclo Graduado  \\\n",
       "2495    90194.0         Edu. Primaria  2019 - 08       No   \n",
       "2496    90286.0      Inn. Diseno Edu.  2019 - 08       No   \n",
       "2497    90945.0      Inn. Diseno Edu.  2019 - 08       Si   \n",
       "2498    90312.0  Mkt. Farmaceutico A.  2019 - 08       Si   \n",
       "2499    90599.0         Inn. Negocios  2019 - 08       No   \n",
       "\n",
       "      Calificacion_Promedio  Tareas_Puntuales  Tareas_No_Entregadas  \\\n",
       "2495              34.616154               8.0                   4.0   \n",
       "2496              75.666000               9.0                   1.0   \n",
       "2497              97.000000              10.0                   0.0   \n",
       "2498              77.142857              13.0                   1.0   \n",
       "2499              72.000000              14.0                   1.0   \n",
       "\n",
       "      Tareas_Retrasadas  Total_Tareas  Dias_Conectado  Minutos_Promedio  \\\n",
       "2495                1.0          13.0            65.0        168.867846   \n",
       "2496                0.0          10.0            32.0        270.669375   \n",
       "2497                0.0          10.0            80.0        257.695875   \n",
       "2498                0.0          14.0            61.0        368.980164   \n",
       "2499                0.0          15.0            56.0        290.476071   \n",
       "\n",
       "      Minutos_Total  value  \n",
       "2495       10976.41      4  \n",
       "2496        8661.42      1  \n",
       "2497       20615.67      1  \n",
       "2498       22507.79      5  \n",
       "2499       16266.66      4  "
      ]
     },
     "execution_count": 33,
     "metadata": {},
     "output_type": "execute_result"
    }
   ],
   "source": [
    "df.tail()"
   ]
  },
  {
   "cell_type": "code",
   "execution_count": 34,
   "metadata": {},
   "outputs": [],
   "source": [
    "df['ratio_puntuales']=df.Tareas_Puntuales/df.Total_Tareas\n",
    "df['ratio_no_entregadas']=df.Tareas_No_Entregadas/df.Total_Tareas\n",
    "df['ratio_retrasadas']=df.Tareas_Retrasadas/df.Total_Tareas\n",
    "df['puntaje_total']=df.Calificacion_Promedio*df.Total_Tareas\n",
    "df['puntaje_conexiones']=df.Calificacion_Promedio*df.Dias_Conectado"
   ]
  },
  {
   "cell_type": "code",
   "execution_count": 83,
   "metadata": {},
   "outputs": [],
   "source": [
    "df2['ratio_puntuales']=df2.Tareas_Puntuales/df2.Total_Tareas\n",
    "df2['ratio_no_entregadas']=df2.Tareas_No_Entregadas/df2.Total_Tareas\n",
    "df2['ratio_retrasadas']=df2.Tareas_Retrasadas/df2.Total_Tareas\n",
    "df2['puntaje_total']=df2.Calificacion_Promedio*df2.Total_Tareas\n",
    "df2['puntaje_conexiones']=df2.Calificacion_Promedio*df2.Dias_Conectado"
   ]
  },
  {
   "cell_type": "code",
   "execution_count": 35,
   "metadata": {},
   "outputs": [
    {
     "name": "stdout",
     "output_type": "stream",
     "text": [
      "<class 'pandas.core.frame.DataFrame'>\n",
      "RangeIndex: 2500 entries, 0 to 2499\n",
      "Data columns (total 18 columns):\n",
      " #   Column                 Non-Null Count  Dtype  \n",
      "---  ------                 --------------  -----  \n",
      " 0   studentId              2500 non-null   float64\n",
      " 1   reducido               2500 non-null   object \n",
      " 2   ciclo                  2500 non-null   object \n",
      " 3   Graduado               2500 non-null   object \n",
      " 4   Calificacion_Promedio  2500 non-null   float64\n",
      " 5   Tareas_Puntuales       2500 non-null   float64\n",
      " 6   Tareas_No_Entregadas   2500 non-null   float64\n",
      " 7   Tareas_Retrasadas      2500 non-null   float64\n",
      " 8   Total_Tareas           2500 non-null   float64\n",
      " 9   Dias_Conectado         2500 non-null   float64\n",
      " 10  Minutos_Promedio       2500 non-null   float64\n",
      " 11  Minutos_Total          2500 non-null   float64\n",
      " 12  value                  2500 non-null   int64  \n",
      " 13  ratio_puntuales        2500 non-null   float64\n",
      " 14  ratio_no_entregadas    2500 non-null   float64\n",
      " 15  ratio_retrasadas       2500 non-null   float64\n",
      " 16  puntaje_total          2500 non-null   float64\n",
      " 17  puntaje_conexiones     2500 non-null   float64\n",
      "dtypes: float64(14), int64(1), object(3)\n",
      "memory usage: 351.7+ KB\n"
     ]
    }
   ],
   "source": [
    "df.info()"
   ]
  },
  {
   "cell_type": "code",
   "execution_count": 36,
   "metadata": {},
   "outputs": [],
   "source": [
    "df = df.drop(columns=['studentId'], inplace=False)"
   ]
  },
  {
   "cell_type": "code",
   "execution_count": 84,
   "metadata": {},
   "outputs": [],
   "source": [
    "df2 = df2.drop(columns=['studentId'], inplace=False)"
   ]
  },
  {
   "cell_type": "code",
   "execution_count": 37,
   "metadata": {},
   "outputs": [
    {
     "data": {
      "text/html": [
       "<div>\n",
       "<style scoped>\n",
       "    .dataframe tbody tr th:only-of-type {\n",
       "        vertical-align: middle;\n",
       "    }\n",
       "\n",
       "    .dataframe tbody tr th {\n",
       "        vertical-align: top;\n",
       "    }\n",
       "\n",
       "    .dataframe thead th {\n",
       "        text-align: right;\n",
       "    }\n",
       "</style>\n",
       "<table border=\"1\" class=\"dataframe\">\n",
       "  <thead>\n",
       "    <tr style=\"text-align: right;\">\n",
       "      <th></th>\n",
       "      <th>reducido</th>\n",
       "      <th>ciclo</th>\n",
       "      <th>Graduado</th>\n",
       "      <th>Calificacion_Promedio</th>\n",
       "      <th>Tareas_Puntuales</th>\n",
       "      <th>Tareas_No_Entregadas</th>\n",
       "      <th>Tareas_Retrasadas</th>\n",
       "      <th>Total_Tareas</th>\n",
       "      <th>Dias_Conectado</th>\n",
       "      <th>Minutos_Promedio</th>\n",
       "      <th>Minutos_Total</th>\n",
       "      <th>value</th>\n",
       "      <th>ratio_puntuales</th>\n",
       "      <th>ratio_no_entregadas</th>\n",
       "      <th>ratio_retrasadas</th>\n",
       "      <th>puntaje_total</th>\n",
       "      <th>puntaje_conexiones</th>\n",
       "    </tr>\n",
       "  </thead>\n",
       "  <tbody>\n",
       "    <tr>\n",
       "      <th>2495</th>\n",
       "      <td>Edu. Primaria</td>\n",
       "      <td>2019 - 08</td>\n",
       "      <td>No</td>\n",
       "      <td>34.616154</td>\n",
       "      <td>8.0</td>\n",
       "      <td>4.0</td>\n",
       "      <td>1.0</td>\n",
       "      <td>13.0</td>\n",
       "      <td>65.0</td>\n",
       "      <td>168.867846</td>\n",
       "      <td>10976.41</td>\n",
       "      <td>4</td>\n",
       "      <td>0.615385</td>\n",
       "      <td>0.307692</td>\n",
       "      <td>0.076923</td>\n",
       "      <td>450.01</td>\n",
       "      <td>2250.050000</td>\n",
       "    </tr>\n",
       "    <tr>\n",
       "      <th>2496</th>\n",
       "      <td>Inn. Diseno Edu.</td>\n",
       "      <td>2019 - 08</td>\n",
       "      <td>No</td>\n",
       "      <td>75.666000</td>\n",
       "      <td>9.0</td>\n",
       "      <td>1.0</td>\n",
       "      <td>0.0</td>\n",
       "      <td>10.0</td>\n",
       "      <td>32.0</td>\n",
       "      <td>270.669375</td>\n",
       "      <td>8661.42</td>\n",
       "      <td>1</td>\n",
       "      <td>0.900000</td>\n",
       "      <td>0.100000</td>\n",
       "      <td>0.000000</td>\n",
       "      <td>756.66</td>\n",
       "      <td>2421.312000</td>\n",
       "    </tr>\n",
       "    <tr>\n",
       "      <th>2497</th>\n",
       "      <td>Inn. Diseno Edu.</td>\n",
       "      <td>2019 - 08</td>\n",
       "      <td>Si</td>\n",
       "      <td>97.000000</td>\n",
       "      <td>10.0</td>\n",
       "      <td>0.0</td>\n",
       "      <td>0.0</td>\n",
       "      <td>10.0</td>\n",
       "      <td>80.0</td>\n",
       "      <td>257.695875</td>\n",
       "      <td>20615.67</td>\n",
       "      <td>1</td>\n",
       "      <td>1.000000</td>\n",
       "      <td>0.000000</td>\n",
       "      <td>0.000000</td>\n",
       "      <td>970.00</td>\n",
       "      <td>7760.000000</td>\n",
       "    </tr>\n",
       "    <tr>\n",
       "      <th>2498</th>\n",
       "      <td>Mkt. Farmaceutico A.</td>\n",
       "      <td>2019 - 08</td>\n",
       "      <td>Si</td>\n",
       "      <td>77.142857</td>\n",
       "      <td>13.0</td>\n",
       "      <td>1.0</td>\n",
       "      <td>0.0</td>\n",
       "      <td>14.0</td>\n",
       "      <td>61.0</td>\n",
       "      <td>368.980164</td>\n",
       "      <td>22507.79</td>\n",
       "      <td>5</td>\n",
       "      <td>0.928571</td>\n",
       "      <td>0.071429</td>\n",
       "      <td>0.000000</td>\n",
       "      <td>1080.00</td>\n",
       "      <td>4705.714286</td>\n",
       "    </tr>\n",
       "    <tr>\n",
       "      <th>2499</th>\n",
       "      <td>Inn. Negocios</td>\n",
       "      <td>2019 - 08</td>\n",
       "      <td>No</td>\n",
       "      <td>72.000000</td>\n",
       "      <td>14.0</td>\n",
       "      <td>1.0</td>\n",
       "      <td>0.0</td>\n",
       "      <td>15.0</td>\n",
       "      <td>56.0</td>\n",
       "      <td>290.476071</td>\n",
       "      <td>16266.66</td>\n",
       "      <td>4</td>\n",
       "      <td>0.933333</td>\n",
       "      <td>0.066667</td>\n",
       "      <td>0.000000</td>\n",
       "      <td>1080.00</td>\n",
       "      <td>4032.000000</td>\n",
       "    </tr>\n",
       "  </tbody>\n",
       "</table>\n",
       "</div>"
      ],
      "text/plain": [
       "                  reducido      ciclo Graduado  Calificacion_Promedio  \\\n",
       "2495         Edu. Primaria  2019 - 08       No              34.616154   \n",
       "2496      Inn. Diseno Edu.  2019 - 08       No              75.666000   \n",
       "2497      Inn. Diseno Edu.  2019 - 08       Si              97.000000   \n",
       "2498  Mkt. Farmaceutico A.  2019 - 08       Si              77.142857   \n",
       "2499         Inn. Negocios  2019 - 08       No              72.000000   \n",
       "\n",
       "      Tareas_Puntuales  Tareas_No_Entregadas  Tareas_Retrasadas  Total_Tareas  \\\n",
       "2495               8.0                   4.0                1.0          13.0   \n",
       "2496               9.0                   1.0                0.0          10.0   \n",
       "2497              10.0                   0.0                0.0          10.0   \n",
       "2498              13.0                   1.0                0.0          14.0   \n",
       "2499              14.0                   1.0                0.0          15.0   \n",
       "\n",
       "      Dias_Conectado  Minutos_Promedio  Minutos_Total  value  ratio_puntuales  \\\n",
       "2495            65.0        168.867846       10976.41      4         0.615385   \n",
       "2496            32.0        270.669375        8661.42      1         0.900000   \n",
       "2497            80.0        257.695875       20615.67      1         1.000000   \n",
       "2498            61.0        368.980164       22507.79      5         0.928571   \n",
       "2499            56.0        290.476071       16266.66      4         0.933333   \n",
       "\n",
       "      ratio_no_entregadas  ratio_retrasadas  puntaje_total  puntaje_conexiones  \n",
       "2495             0.307692          0.076923         450.01         2250.050000  \n",
       "2496             0.100000          0.000000         756.66         2421.312000  \n",
       "2497             0.000000          0.000000         970.00         7760.000000  \n",
       "2498             0.071429          0.000000        1080.00         4705.714286  \n",
       "2499             0.066667          0.000000        1080.00         4032.000000  "
      ]
     },
     "execution_count": 37,
     "metadata": {},
     "output_type": "execute_result"
    }
   ],
   "source": [
    "df.tail()"
   ]
  },
  {
   "cell_type": "markdown",
   "metadata": {},
   "source": [
    "### Manejando variables Categoricas\n",
    "\n",
    "Como se menciono antes, los computadores no son buenos con las variables categoricas.\n",
    "\n",
    "Mientras que nosotros entendemos bien las variables categoricas, es debido a un conocimiento previo quie el computador no tiene.\n",
    "\n",
    "La mayoria de tecnicas de Machine Learning y modelso trabajan con un set limitado de datos (Tipicamente binario). \n",
    "\n",
    "Las redes neurales consumenda data y producen resultados en el rango de 0..1 t raramente van mas alla del alcance.\n",
    "\n",
    "En resumen, la gran mayoria de algoritmos de machine learning aceptan data de entrada  (\"training data\") de donde los features son extraidos.\n",
    "\n",
    "Basado en estos features, un modelo matematico es creado, el cual es usado para hacer una predicción o decision sin ser programado explicitamente para esa tarea.\n",
    "\n",
    "Dado un dataset con con 2 features, vamos a dejar que encoder encuentre los valores unicos por features y transforme la data a binario usando la tecnica one-hot encoding."
   ]
  },
  {
   "cell_type": "code",
   "execution_count": 38,
   "metadata": {},
   "outputs": [],
   "source": [
    "# Columnas One-hot-encoding del dataset usando el metodo de Pandas ``get_dummies``  (demontración)\n",
    "#df3 = pd.get_dummies(df2, columns=['ciclo'])\n",
    "#df3.tail()"
   ]
  },
  {
   "cell_type": "code",
   "execution_count": 39,
   "metadata": {},
   "outputs": [],
   "source": [
    "from sklearn.preprocessing import LabelEncoder\n",
    "le = LabelEncoder()\n",
    "le.fit(df.reducido)\n",
    "c=le.transform(df.reducido)\n",
    "#le.fit(df.value)\n",
    "#d=le.transform(df.value)\n"
   ]
  },
  {
   "cell_type": "code",
   "execution_count": 85,
   "metadata": {},
   "outputs": [],
   "source": [
    "from sklearn.preprocessing import LabelEncoder\n",
    "le = LabelEncoder()\n",
    "le.fit(df2.reducido)\n",
    "c=le.transform(df2.reducido)\n",
    "#le.fit(df.value)\n",
    "#d=le.transform(df.value)"
   ]
  },
  {
   "cell_type": "code",
   "execution_count": 40,
   "metadata": {},
   "outputs": [],
   "source": [
    "df['anio_ciclo']=df.ciclo.str.split('-').str[0].astype('int')\n",
    "df['mes_ciclo']=df.ciclo.str.split('-').str[1].astype('int')"
   ]
  },
  {
   "cell_type": "code",
   "execution_count": 86,
   "metadata": {},
   "outputs": [],
   "source": [
    "df2['anio_ciclo']=df2.ciclo.str.split('-').str[0].astype('int')\n",
    "df2['mes_ciclo']=df2.ciclo.str.split('-').str[1].astype('int')"
   ]
  },
  {
   "cell_type": "code",
   "execution_count": 41,
   "metadata": {},
   "outputs": [],
   "source": [
    "df['reducido']=c\n",
    "#df['value']=d"
   ]
  },
  {
   "cell_type": "code",
   "execution_count": 87,
   "metadata": {},
   "outputs": [],
   "source": [
    "df2['reducido']=c\n",
    "#df['value']=d"
   ]
  },
  {
   "cell_type": "code",
   "execution_count": 42,
   "metadata": {},
   "outputs": [],
   "source": [
    "df=df.drop(columns=['ciclo'])"
   ]
  },
  {
   "cell_type": "code",
   "execution_count": 88,
   "metadata": {},
   "outputs": [],
   "source": [
    "df2=df2.drop(columns=['ciclo'])"
   ]
  },
  {
   "cell_type": "code",
   "execution_count": 43,
   "metadata": {},
   "outputs": [
    {
     "data": {
      "text/html": [
       "<div>\n",
       "<style scoped>\n",
       "    .dataframe tbody tr th:only-of-type {\n",
       "        vertical-align: middle;\n",
       "    }\n",
       "\n",
       "    .dataframe tbody tr th {\n",
       "        vertical-align: top;\n",
       "    }\n",
       "\n",
       "    .dataframe thead th {\n",
       "        text-align: right;\n",
       "    }\n",
       "</style>\n",
       "<table border=\"1\" class=\"dataframe\">\n",
       "  <thead>\n",
       "    <tr style=\"text-align: right;\">\n",
       "      <th></th>\n",
       "      <th>reducido</th>\n",
       "      <th>Graduado</th>\n",
       "      <th>Calificacion_Promedio</th>\n",
       "      <th>Tareas_Puntuales</th>\n",
       "      <th>Tareas_No_Entregadas</th>\n",
       "      <th>Tareas_Retrasadas</th>\n",
       "      <th>Total_Tareas</th>\n",
       "      <th>Dias_Conectado</th>\n",
       "      <th>Minutos_Promedio</th>\n",
       "      <th>Minutos_Total</th>\n",
       "      <th>value</th>\n",
       "      <th>ratio_puntuales</th>\n",
       "      <th>ratio_no_entregadas</th>\n",
       "      <th>ratio_retrasadas</th>\n",
       "      <th>puntaje_total</th>\n",
       "      <th>puntaje_conexiones</th>\n",
       "      <th>anio_ciclo</th>\n",
       "      <th>mes_ciclo</th>\n",
       "    </tr>\n",
       "  </thead>\n",
       "  <tbody>\n",
       "    <tr>\n",
       "      <th>0</th>\n",
       "      <td>66</td>\n",
       "      <td>Si</td>\n",
       "      <td>65.598667</td>\n",
       "      <td>13.0</td>\n",
       "      <td>2.0</td>\n",
       "      <td>0.0</td>\n",
       "      <td>15.0</td>\n",
       "      <td>32.0</td>\n",
       "      <td>370.231250</td>\n",
       "      <td>11847.40</td>\n",
       "      <td>1</td>\n",
       "      <td>0.866667</td>\n",
       "      <td>0.133333</td>\n",
       "      <td>0.0</td>\n",
       "      <td>983.98</td>\n",
       "      <td>2099.157333</td>\n",
       "      <td>2017</td>\n",
       "      <td>3</td>\n",
       "    </tr>\n",
       "    <tr>\n",
       "      <th>1</th>\n",
       "      <td>66</td>\n",
       "      <td>No</td>\n",
       "      <td>76.641333</td>\n",
       "      <td>13.0</td>\n",
       "      <td>2.0</td>\n",
       "      <td>0.0</td>\n",
       "      <td>15.0</td>\n",
       "      <td>30.0</td>\n",
       "      <td>691.944667</td>\n",
       "      <td>20758.34</td>\n",
       "      <td>1</td>\n",
       "      <td>0.866667</td>\n",
       "      <td>0.133333</td>\n",
       "      <td>0.0</td>\n",
       "      <td>1149.62</td>\n",
       "      <td>2299.240000</td>\n",
       "      <td>2017</td>\n",
       "      <td>3</td>\n",
       "    </tr>\n",
       "    <tr>\n",
       "      <th>2</th>\n",
       "      <td>61</td>\n",
       "      <td>No</td>\n",
       "      <td>86.482222</td>\n",
       "      <td>9.0</td>\n",
       "      <td>0.0</td>\n",
       "      <td>0.0</td>\n",
       "      <td>9.0</td>\n",
       "      <td>50.0</td>\n",
       "      <td>198.717400</td>\n",
       "      <td>9935.87</td>\n",
       "      <td>1</td>\n",
       "      <td>1.000000</td>\n",
       "      <td>0.000000</td>\n",
       "      <td>0.0</td>\n",
       "      <td>778.34</td>\n",
       "      <td>4324.111111</td>\n",
       "      <td>2017</td>\n",
       "      <td>3</td>\n",
       "    </tr>\n",
       "    <tr>\n",
       "      <th>3</th>\n",
       "      <td>61</td>\n",
       "      <td>No</td>\n",
       "      <td>76.852222</td>\n",
       "      <td>9.0</td>\n",
       "      <td>0.0</td>\n",
       "      <td>0.0</td>\n",
       "      <td>9.0</td>\n",
       "      <td>18.0</td>\n",
       "      <td>295.809444</td>\n",
       "      <td>5324.57</td>\n",
       "      <td>1</td>\n",
       "      <td>1.000000</td>\n",
       "      <td>0.000000</td>\n",
       "      <td>0.0</td>\n",
       "      <td>691.67</td>\n",
       "      <td>1383.340000</td>\n",
       "      <td>2017</td>\n",
       "      <td>3</td>\n",
       "    </tr>\n",
       "    <tr>\n",
       "      <th>4</th>\n",
       "      <td>61</td>\n",
       "      <td>No</td>\n",
       "      <td>84.815556</td>\n",
       "      <td>9.0</td>\n",
       "      <td>0.0</td>\n",
       "      <td>0.0</td>\n",
       "      <td>9.0</td>\n",
       "      <td>15.0</td>\n",
       "      <td>324.121333</td>\n",
       "      <td>4861.82</td>\n",
       "      <td>1</td>\n",
       "      <td>1.000000</td>\n",
       "      <td>0.000000</td>\n",
       "      <td>0.0</td>\n",
       "      <td>763.34</td>\n",
       "      <td>1272.233333</td>\n",
       "      <td>2017</td>\n",
       "      <td>3</td>\n",
       "    </tr>\n",
       "  </tbody>\n",
       "</table>\n",
       "</div>"
      ],
      "text/plain": [
       "   reducido Graduado  Calificacion_Promedio  Tareas_Puntuales  \\\n",
       "0        66       Si              65.598667              13.0   \n",
       "1        66       No              76.641333              13.0   \n",
       "2        61       No              86.482222               9.0   \n",
       "3        61       No              76.852222               9.0   \n",
       "4        61       No              84.815556               9.0   \n",
       "\n",
       "   Tareas_No_Entregadas  Tareas_Retrasadas  Total_Tareas  Dias_Conectado  \\\n",
       "0                   2.0                0.0          15.0            32.0   \n",
       "1                   2.0                0.0          15.0            30.0   \n",
       "2                   0.0                0.0           9.0            50.0   \n",
       "3                   0.0                0.0           9.0            18.0   \n",
       "4                   0.0                0.0           9.0            15.0   \n",
       "\n",
       "   Minutos_Promedio  Minutos_Total  value  ratio_puntuales  \\\n",
       "0        370.231250       11847.40      1         0.866667   \n",
       "1        691.944667       20758.34      1         0.866667   \n",
       "2        198.717400        9935.87      1         1.000000   \n",
       "3        295.809444        5324.57      1         1.000000   \n",
       "4        324.121333        4861.82      1         1.000000   \n",
       "\n",
       "   ratio_no_entregadas  ratio_retrasadas  puntaje_total  puntaje_conexiones  \\\n",
       "0             0.133333               0.0         983.98         2099.157333   \n",
       "1             0.133333               0.0        1149.62         2299.240000   \n",
       "2             0.000000               0.0         778.34         4324.111111   \n",
       "3             0.000000               0.0         691.67         1383.340000   \n",
       "4             0.000000               0.0         763.34         1272.233333   \n",
       "\n",
       "   anio_ciclo  mes_ciclo  \n",
       "0        2017          3  \n",
       "1        2017          3  \n",
       "2        2017          3  \n",
       "3        2017          3  \n",
       "4        2017          3  "
      ]
     },
     "execution_count": 43,
     "metadata": {},
     "output_type": "execute_result"
    }
   ],
   "source": [
    "df.head()"
   ]
  },
  {
   "cell_type": "code",
   "execution_count": 44,
   "metadata": {},
   "outputs": [
    {
     "data": {
      "text/plain": [
       "array([<matplotlib.axes._subplots.AxesSubplot object at 0x000002435BC86668>,\n",
       "       <matplotlib.axes._subplots.AxesSubplot object at 0x000002435C66B550>],\n",
       "      dtype=object)"
      ]
     },
     "execution_count": 44,
     "metadata": {},
     "output_type": "execute_result"
    }
   ],
   "source": [
    "df.mes_ciclo.hist(by=df['Graduado'])"
   ]
  },
  {
   "cell_type": "code",
   "execution_count": 45,
   "metadata": {},
   "outputs": [
    {
     "data": {
      "text/plain": [
       "<matplotlib.axes._subplots.AxesSubplot at 0x2435c5e80f0>"
      ]
     },
     "execution_count": 45,
     "metadata": {},
     "output_type": "execute_result"
    },
    {
     "data": {
      "image/png": "[encoded data removed]",
      "text/plain": [
       "<Figure size 432x288 with 1 Axes>"
      ]
     },
     "metadata": {
      "needs_background": "light"
     },
     "output_type": "display_data"
    }
   ],
   "source": [
    "df.mes_ciclo.hist()"
   ]
  },
  {
   "cell_type": "markdown",
   "metadata": {},
   "source": [
    "c1"
   ]
  },
  {
   "cell_type": "markdown",
   "metadata": {},
   "source": [
    "## Entrenando un clasificador basado  en un Árbol de Decisión"
   ]
  },
  {
   "cell_type": "markdown",
   "metadata": {},
   "source": [
    "### Seleccionando FEATURES y definiendo la variable TARGET"
   ]
  },
  {
   "cell_type": "code",
   "execution_count": 46,
   "metadata": {},
   "outputs": [],
   "source": [
    "#df3.columns\n",
    "columnas=df.columns"
   ]
  },
  {
   "cell_type": "code",
   "execution_count": 581,
   "metadata": {},
   "outputs": [
    {
     "name": "stderr",
     "output_type": "stream",
     "text": [
      "C:\\ProgramData\\Anaconda3\\lib\\site-packages\\sklearn\\preprocessing\\data.py:645: DataConversionWarning: Data with input dtype int32, int64, float64 were all converted to float64 by StandardScaler.\n",
      "  return self.partial_fit(X, y)\n",
      "C:\\ProgramData\\Anaconda3\\lib\\site-packages\\ipykernel_launcher.py:6: DataConversionWarning: Data with input dtype int32, int64, float64 were all converted to float64 by StandardScaler.\n",
      "  \n"
     ]
    }
   ],
   "source": [
    "from sklearn.preprocessing import StandardScaler\n",
    "le.fit(df['Graduado'])\n",
    "df['Graduado']=le.transform(df['Graduado'])\n",
    "sc=StandardScaler()\n",
    "sc.fit(df)\n",
    "df=sc.transform(df)\n",
    "df=pd.DataFrame(df,columns=columnas)"
   ]
  },
  {
   "cell_type": "code",
   "execution_count": 47,
   "metadata": {},
   "outputs": [],
   "source": [
    "#features = df3[\n",
    "#    [\n",
    "#        'studentId', 'Calificacion_Promedio', 'Tareas_Puntuales',\n",
    "#        'Tareas_No_Entregadas', 'Tareas_Retrasadas', 'Total_Tareas',\n",
    "#        'ciclo_2017 - 03', 'ciclo_2017 - 04', 'ciclo_2017 - 05',\n",
    "#        'ciclo_2017 - 06', 'ciclo_2017 - 07', 'ciclo_2017 - 08',\n",
    "#        'ciclo_2018 - 01', 'ciclo_2018 - 02', 'ciclo_2018 - 03',\n",
    "#        'ciclo_2018 - 04', 'ciclo_2018 - 05', 'ciclo_2018 - 06',\n",
    "#        'ciclo_2018 - 07', 'ciclo_2018 - 08', 'ciclo_2019 - 01',\n",
    "#        'ciclo_2019 - 02', 'ciclo_2019 - 03', 'ciclo_2019 - 04',\n",
    "#        'ciclo_2019 - 05', 'ciclo_2019 - 06', 'ciclo_2019 - 07',\n",
    "#        'ciclo_2019 - 08'\n",
    "#    ]\n",
    "#]\n",
    "features = df[[x for x in df.columns if x != 'Graduado']]\n",
    "target = df['Graduado']  ## No cambie la variable target!"
   ]
  },
  {
   "cell_type": "code",
   "execution_count": 48,
   "metadata": {},
   "outputs": [],
   "source": [
    "features = df[[x for x in df.columns if x not in ['Graduado']]]"
   ]
  },
  {
   "cell_type": "markdown",
   "metadata": {},
   "source": [
    "### Dividiendo nuestro dataset en set de Entrenamiento y Pruebas"
   ]
  },
  {
   "cell_type": "code",
   "execution_count": 49,
   "metadata": {},
   "outputs": [],
   "source": [
    "from sklearn.model_selection import train_test_split\n",
    "\n",
    "\n",
    "X_train, X_test, y_train, y_test = train_test_split(features, target, test_size=0.2, random_state=133)"
   ]
  },
  {
   "cell_type": "code",
   "execution_count": 585,
   "metadata": {},
   "outputs": [],
   "source": [
    "import lightgbm as lgbm"
   ]
  },
  {
   "cell_type": "markdown",
   "metadata": {},
   "source": [
    "### Entrenando un modelo ``DecisionTreeClassifier()``"
   ]
  },
  {
   "cell_type": "code",
   "execution_count": 50,
   "metadata": {},
   "outputs": [],
   "source": [
    "# Método para creacion de modelos basados en arbol de desición\n",
    "from sklearn.tree import DecisionTreeClassifier\n",
    "from sklearn.ensemble import RandomForestClassifier,ExtraTreesClassifier\n",
    "from sklearn.linear_model import LogisticRegression\n",
    "\n",
    "#dtc = DecisionTreeClassifier(max_depth=16,random_state=123).fit(X_train, y_train)\n",
    "#dtc = RandomForestClassifier(random_state=123)\n",
    "#dtc=lgbm.LGBMClassifier()\n",
    "dtc=LogisticRegression()\n"
   ]
  },
  {
   "cell_type": "code",
   "execution_count": 52,
   "metadata": {},
   "outputs": [
    {
     "name": "stderr",
     "output_type": "stream",
     "text": [
      "C:\\ProgramData\\Anaconda3\\lib\\site-packages\\sklearn\\ensemble\\forest.py:246: FutureWarning: The default value of n_estimators will change from 10 in version 0.20 to 100 in 0.22.\n",
      "  \"10 in version 0.20 to 100 in 0.22.\", FutureWarning)\n",
      "C:\\ProgramData\\Anaconda3\\lib\\site-packages\\sklearn\\ensemble\\forest.py:246: FutureWarning: The default value of n_estimators will change from 10 in version 0.20 to 100 in 0.22.\n",
      "  \"10 in version 0.20 to 100 in 0.22.\", FutureWarning)\n",
      "C:\\ProgramData\\Anaconda3\\lib\\site-packages\\sklearn\\ensemble\\forest.py:246: FutureWarning: The default value of n_estimators will change from 10 in version 0.20 to 100 in 0.22.\n",
      "  \"10 in version 0.20 to 100 in 0.22.\", FutureWarning)\n",
      "C:\\ProgramData\\Anaconda3\\lib\\site-packages\\sklearn\\ensemble\\forest.py:246: FutureWarning: The default value of n_estimators will change from 10 in version 0.20 to 100 in 0.22.\n",
      "  \"10 in version 0.20 to 100 in 0.22.\", FutureWarning)\n",
      "C:\\ProgramData\\Anaconda3\\lib\\site-packages\\sklearn\\ensemble\\forest.py:246: FutureWarning: The default value of n_estimators will change from 10 in version 0.20 to 100 in 0.22.\n",
      "  \"10 in version 0.20 to 100 in 0.22.\", FutureWarning)\n",
      "C:\\ProgramData\\Anaconda3\\lib\\site-packages\\sklearn\\ensemble\\forest.py:246: FutureWarning: The default value of n_estimators will change from 10 in version 0.20 to 100 in 0.22.\n",
      "  \"10 in version 0.20 to 100 in 0.22.\", FutureWarning)\n",
      "C:\\ProgramData\\Anaconda3\\lib\\site-packages\\sklearn\\ensemble\\forest.py:246: FutureWarning: The default value of n_estimators will change from 10 in version 0.20 to 100 in 0.22.\n",
      "  \"10 in version 0.20 to 100 in 0.22.\", FutureWarning)\n",
      "C:\\ProgramData\\Anaconda3\\lib\\site-packages\\sklearn\\ensemble\\forest.py:246: FutureWarning: The default value of n_estimators will change from 10 in version 0.20 to 100 in 0.22.\n",
      "  \"10 in version 0.20 to 100 in 0.22.\", FutureWarning)\n",
      "C:\\ProgramData\\Anaconda3\\lib\\site-packages\\sklearn\\ensemble\\forest.py:246: FutureWarning: The default value of n_estimators will change from 10 in version 0.20 to 100 in 0.22.\n",
      "  \"10 in version 0.20 to 100 in 0.22.\", FutureWarning)\n",
      "C:\\ProgramData\\Anaconda3\\lib\\site-packages\\sklearn\\ensemble\\forest.py:246: FutureWarning: The default value of n_estimators will change from 10 in version 0.20 to 100 in 0.22.\n",
      "  \"10 in version 0.20 to 100 in 0.22.\", FutureWarning)\n",
      "C:\\ProgramData\\Anaconda3\\lib\\site-packages\\sklearn\\ensemble\\forest.py:246: FutureWarning: The default value of n_estimators will change from 10 in version 0.20 to 100 in 0.22.\n",
      "  \"10 in version 0.20 to 100 in 0.22.\", FutureWarning)\n",
      "C:\\ProgramData\\Anaconda3\\lib\\site-packages\\sklearn\\ensemble\\forest.py:246: FutureWarning: The default value of n_estimators will change from 10 in version 0.20 to 100 in 0.22.\n",
      "  \"10 in version 0.20 to 100 in 0.22.\", FutureWarning)\n",
      "C:\\ProgramData\\Anaconda3\\lib\\site-packages\\sklearn\\ensemble\\forest.py:246: FutureWarning: The default value of n_estimators will change from 10 in version 0.20 to 100 in 0.22.\n",
      "  \"10 in version 0.20 to 100 in 0.22.\", FutureWarning)\n",
      "C:\\ProgramData\\Anaconda3\\lib\\site-packages\\sklearn\\ensemble\\forest.py:246: FutureWarning: The default value of n_estimators will change from 10 in version 0.20 to 100 in 0.22.\n",
      "  \"10 in version 0.20 to 100 in 0.22.\", FutureWarning)\n",
      "C:\\ProgramData\\Anaconda3\\lib\\site-packages\\sklearn\\ensemble\\forest.py:246: FutureWarning: The default value of n_estimators will change from 10 in version 0.20 to 100 in 0.22.\n",
      "  \"10 in version 0.20 to 100 in 0.22.\", FutureWarning)\n",
      "C:\\ProgramData\\Anaconda3\\lib\\site-packages\\sklearn\\ensemble\\forest.py:246: FutureWarning: The default value of n_estimators will change from 10 in version 0.20 to 100 in 0.22.\n",
      "  \"10 in version 0.20 to 100 in 0.22.\", FutureWarning)\n",
      "C:\\ProgramData\\Anaconda3\\lib\\site-packages\\sklearn\\ensemble\\forest.py:246: FutureWarning: The default value of n_estimators will change from 10 in version 0.20 to 100 in 0.22.\n",
      "  \"10 in version 0.20 to 100 in 0.22.\", FutureWarning)\n"
     ]
    }
   ],
   "source": [
    "from sklearn.metrics import f1_score\n",
    "from sklearn.feature_selection import RFE\n",
    "scores=[]\n",
    "for i in range(1,18):\n",
    "    #dtc = RandomForestClassifier(random_state=123,criterion='entropy',n_jobs=-1,n_estimators=300)\n",
    "    #dtc=lgbm.LGBMClassifier(random_state=123,n_estimators=50,learning_rate=0.3,max_depth=6)\n",
    "    #dtc=DecisionTreeClassifier(max_depth=3,random_state=123)\n",
    "    #dtc=LogisticRegression(random_state=123)\n",
    "    dtc=ExtraTreesClassifier(random_state=123,n_estimators=47,max_depth=11,max_features='auto')\n",
    "    selector = RFE(dtc, n_features_to_select=i, step=1)\n",
    "    X_train2 = selector.fit_transform(X_train, y_train)\n",
    "    dtc = RandomForestClassifier(random_state=123).fit(X_train2, y_train)\n",
    "    y_pred = dtc.predict(X_test[X_test.columns[selector.support_]])\n",
    "    le.fit(y_test)\n",
    "    scores.append(f1_score(le.transform(y_test),le.transform(y_pred)))"
   ]
  },
  {
   "cell_type": "code",
   "execution_count": 55,
   "metadata": {},
   "outputs": [
    {
     "name": "stderr",
     "output_type": "stream",
     "text": [
      "C:\\ProgramData\\Anaconda3\\lib\\site-packages\\sklearn\\ensemble\\forest.py:246: FutureWarning: The default value of n_estimators will change from 10 in version 0.20 to 100 in 0.22.\n",
      "  \"10 in version 0.20 to 100 in 0.22.\", FutureWarning)\n"
     ]
    },
    {
     "data": {
      "text/plain": [
       "0.8014842300556587"
      ]
     },
     "execution_count": 55,
     "metadata": {},
     "output_type": "execute_result"
    }
   ],
   "source": [
    "from sklearn.model_selection import GridSearchCV\n",
    "dtc=ExtraTreesClassifier(random_state=123,n_estimators=10,max_depth=10)\n",
    "selector = RFE(dtc, n_features_to_select=5, step=1)\n",
    "X_train2 = selector.fit_transform(X_train, y_train)\n",
    "dtc = RandomForestClassifier(random_state=123).fit(X_train2, y_train)\n",
    "y_pred = dtc.predict(X_test[X_test.columns[selector.support_]])\n",
    "le.fit(y_test)\n",
    "f1_score(le.transform(y_test),le.transform(y_pred))"
   ]
  },
  {
   "cell_type": "code",
   "execution_count": 72,
   "metadata": {},
   "outputs": [
    {
     "name": "stdout",
     "output_type": "stream",
     "text": [
      "Fitting 3 folds for each of 9 candidates, totalling 27 fits\n"
     ]
    },
    {
     "name": "stderr",
     "output_type": "stream",
     "text": [
      "[Parallel(n_jobs=-1)]: Using backend LokyBackend with 8 concurrent workers.\n",
      "[Parallel(n_jobs=-1)]: Done  22 out of  27 | elapsed:    7.0s remaining:    1.5s\n",
      "[Parallel(n_jobs=-1)]: Done  27 out of  27 | elapsed:    8.5s finished\n"
     ]
    },
    {
     "data": {
      "text/plain": [
       "0.8747855917667239"
      ]
     },
     "execution_count": 72,
     "metadata": {},
     "output_type": "execute_result"
    }
   ],
   "source": [
    "from sklearn.model_selection import GridSearchCV\n",
    "from sklearn.model_selection import RandomizedSearchCV\n",
    "X_test.columns[selector.support_]\n",
    "random_grid={'n_estimators':[1000],\n",
    "            'max_depth':[1,2,10],\n",
    "            'max_features':['auto','sqrt','log2']}\n",
    "random_search=GridSearchCV(estimator = dtc, param_grid = random_grid, \n",
    "                                 cv = 3, verbose=3,n_jobs = -1)\n",
    "#random_grid={'n_estimators':list(range(20,700,1)),\n",
    "#            'max_depth':list(range(2,30,1)),\n",
    "#            'max_features':['auto','sqrt','log2']}\n",
    "#random_search=RandomizedSearchCV(estimator = dtc, param_distributions = random_grid, \n",
    "#                                 cv = 3, n_iter=1000,verbose=3,n_jobs = -1)\n",
    "random_search=GridSearchCV(estimator = dtc, param_grid = random_grid, \n",
    "                                 cv = 3, verbose=3,n_jobs = -1)\n",
    "random_search.fit(X_train[X_train.columns[selector.support_]],y_train)\n",
    "random_search.best_params_\n",
    "dtc=random_search.best_estimator_\n",
    "y_pred = dtc.predict(X_test[X_test.columns[selector.support_]])\n",
    "le.fit(y_test)\n",
    "f1_score(le.transform(y_test),le.transform(y_pred))"
   ]
  },
  {
   "cell_type": "code",
   "execution_count": 73,
   "metadata": {},
   "outputs": [
    {
     "data": {
      "text/plain": [
       "{'max_depth': 2, 'max_features': 'auto', 'n_estimators': 1000}"
      ]
     },
     "execution_count": 73,
     "metadata": {},
     "output_type": "execute_result"
    }
   ],
   "source": [
    "random_search.best_params_"
   ]
  },
  {
   "cell_type": "code",
   "execution_count": 62,
   "metadata": {},
   "outputs": [
    {
     "data": {
      "text/plain": [
       "Index(['Calificacion_Promedio', 'Dias_Conectado', 'ratio_puntuales',\n",
       "       'ratio_no_entregadas', 'puntaje_conexiones'],\n",
       "      dtype='object')"
      ]
     },
     "execution_count": 62,
     "metadata": {},
     "output_type": "execute_result"
    }
   ],
   "source": [
    "X_train.columns[selector.support_]"
   ]
  },
  {
   "cell_type": "code",
   "execution_count": null,
   "metadata": {},
   "outputs": [],
   "source": [
    "Extra tree {'max_depth': 7, 'max_features': 'auto', 'n_estimators': 150} 12 features:0.8625429553264605\n",
    "Ectra tree {'max_depth': 11, 'max_features': 'auto', 'n_estimators': 47} 12 features 0.8380281690140845"
   ]
  },
  {
   "cell_type": "code",
   "execution_count": 723,
   "metadata": {},
   "outputs": [
    {
     "data": {
      "text/plain": [
       "[<matplotlib.lines.Line2D at 0x19af07d2a58>]"
      ]
     },
     "execution_count": 723,
     "metadata": {},
     "output_type": "execute_result"
    },
    {
     "data": {
      "image/png": "[encoded data removed]",
      "text/plain": [
       "<Figure size 432x288 with 1 Axes>"
      ]
     },
     "metadata": {
      "needs_background": "light"
     },
     "output_type": "display_data"
    }
   ],
   "source": [
    "plt.plot(scores)"
   ]
  },
  {
   "cell_type": "code",
   "execution_count": 724,
   "metadata": {},
   "outputs": [
    {
     "data": {
      "text/plain": [
       "[0.7476979742173112,\n",
       " 0.7579737335834895,\n",
       " 0.8074074074074075,\n",
       " 0.79182156133829,\n",
       " 0.8014842300556587,\n",
       " 0.8088235294117647,\n",
       " 0.8327272727272728,\n",
       " 0.7940074906367042,\n",
       " 0.801457194899818,\n",
       " 0.8287292817679559,\n",
       " 0.8122743682310469,\n",
       " 0.8102189781021897,\n",
       " 0.8081180811808119,\n",
       " 0.8073394495412846,\n",
       " 0.8207024029574861,\n",
       " 0.7977941176470588,\n",
       " 0.8043875685557587]"
      ]
     },
     "execution_count": 724,
     "metadata": {},
     "output_type": "execute_result"
    }
   ],
   "source": [
    "scores"
   ]
  },
  {
   "cell_type": "code",
   "execution_count": 725,
   "metadata": {},
   "outputs": [
    {
     "data": {
      "text/plain": [
       "0.8327272727272728"
      ]
     },
     "execution_count": 725,
     "metadata": {},
     "output_type": "execute_result"
    }
   ],
   "source": [
    "max(scores)\n",
    "#scores.arg_max()"
   ]
  },
  {
   "cell_type": "code",
   "execution_count": 673,
   "metadata": {},
   "outputs": [
    {
     "ename": "SyntaxError",
     "evalue": "invalid syntax (<ipython-input-673-dad4bac17e00>, line 1)",
     "output_type": "error",
     "traceback": [
      "\u001b[1;36m  File \u001b[1;32m\"<ipython-input-673-dad4bac17e00>\"\u001b[1;36m, line \u001b[1;32m1\u001b[0m\n\u001b[1;33m    Decision tree depth 3, 13 variables\u001b[0m\n\u001b[1;37m                ^\u001b[0m\n\u001b[1;31mSyntaxError\u001b[0m\u001b[1;31m:\u001b[0m invalid syntax\n"
     ]
    }
   ],
   "source": [
    "Decision tree depth 3, 13 variables"
   ]
  },
  {
   "cell_type": "code",
   "execution_count": 374,
   "metadata": {},
   "outputs": [
    {
     "data": {
      "text/plain": [
       "(2000, 17)"
      ]
     },
     "execution_count": 374,
     "metadata": {},
     "output_type": "execute_result"
    }
   ],
   "source": [
    "X_train2.shape"
   ]
  },
  {
   "cell_type": "code",
   "execution_count": 231,
   "metadata": {},
   "outputs": [
    {
     "name": "stderr",
     "output_type": "stream",
     "text": [
      "C:\\ProgramData\\Anaconda3\\lib\\site-packages\\sklearn\\ensemble\\forest.py:246: FutureWarning: The default value of n_estimators will change from 10 in version 0.20 to 100 in 0.22.\n",
      "  \"10 in version 0.20 to 100 in 0.22.\", FutureWarning)\n"
     ]
    }
   ],
   "source": [
    "# Método para creacion de modelos basados en arbol de desición\n",
    "from sklearn.tree import DecisionTreeClassifier\n",
    "\n",
    "\n",
    "#dtc = DecisionTreeClassifier(max_depth=15,random_state=123).fit(X_train2, y_train)\n",
    "dtc = RandomForestClassifier(random_state=123).fit(X_train2, y_train)"
   ]
  },
  {
   "cell_type": "code",
   "execution_count": 232,
   "metadata": {},
   "outputs": [
    {
     "data": {
      "text/html": [
       "<div>\n",
       "<style scoped>\n",
       "    .dataframe tbody tr th:only-of-type {\n",
       "        vertical-align: middle;\n",
       "    }\n",
       "\n",
       "    .dataframe tbody tr th {\n",
       "        vertical-align: top;\n",
       "    }\n",
       "\n",
       "    .dataframe thead th {\n",
       "        text-align: right;\n",
       "    }\n",
       "</style>\n",
       "<table border=\"1\" class=\"dataframe\">\n",
       "  <thead>\n",
       "    <tr style=\"text-align: right;\">\n",
       "      <th></th>\n",
       "      <th>reducido</th>\n",
       "      <th>Calificacion_Promedio</th>\n",
       "      <th>Dias_Conectado</th>\n",
       "      <th>Minutos_Promedio</th>\n",
       "      <th>Minutos_Total</th>\n",
       "      <th>ratio_puntuales</th>\n",
       "      <th>ratio_no_entregadas</th>\n",
       "      <th>puntaje_total</th>\n",
       "      <th>puntaje_conexiones</th>\n",
       "      <th>mes_ciclo</th>\n",
       "    </tr>\n",
       "  </thead>\n",
       "  <tbody>\n",
       "    <tr>\n",
       "      <th>1555</th>\n",
       "      <td>28</td>\n",
       "      <td>63.667000</td>\n",
       "      <td>29.0</td>\n",
       "      <td>332.921379</td>\n",
       "      <td>9654.72</td>\n",
       "      <td>0.900000</td>\n",
       "      <td>0.100000</td>\n",
       "      <td>636.67</td>\n",
       "      <td>1846.343000</td>\n",
       "      <td>5</td>\n",
       "    </tr>\n",
       "    <tr>\n",
       "      <th>915</th>\n",
       "      <td>4</td>\n",
       "      <td>94.642667</td>\n",
       "      <td>141.0</td>\n",
       "      <td>449.418511</td>\n",
       "      <td>63368.01</td>\n",
       "      <td>1.000000</td>\n",
       "      <td>0.000000</td>\n",
       "      <td>1419.64</td>\n",
       "      <td>13344.616000</td>\n",
       "      <td>3</td>\n",
       "    </tr>\n",
       "    <tr>\n",
       "      <th>210</th>\n",
       "      <td>66</td>\n",
       "      <td>92.592222</td>\n",
       "      <td>139.0</td>\n",
       "      <td>274.542158</td>\n",
       "      <td>38161.36</td>\n",
       "      <td>1.000000</td>\n",
       "      <td>0.000000</td>\n",
       "      <td>833.33</td>\n",
       "      <td>12870.318889</td>\n",
       "      <td>1</td>\n",
       "    </tr>\n",
       "    <tr>\n",
       "      <th>829</th>\n",
       "      <td>4</td>\n",
       "      <td>12.762000</td>\n",
       "      <td>6.0</td>\n",
       "      <td>801.935000</td>\n",
       "      <td>4811.61</td>\n",
       "      <td>0.200000</td>\n",
       "      <td>0.800000</td>\n",
       "      <td>191.43</td>\n",
       "      <td>76.572000</td>\n",
       "      <td>2</td>\n",
       "    </tr>\n",
       "    <tr>\n",
       "      <th>47</th>\n",
       "      <td>47</td>\n",
       "      <td>95.667000</td>\n",
       "      <td>28.0</td>\n",
       "      <td>83.333571</td>\n",
       "      <td>2333.34</td>\n",
       "      <td>1.000000</td>\n",
       "      <td>0.000000</td>\n",
       "      <td>956.67</td>\n",
       "      <td>2678.676000</td>\n",
       "      <td>5</td>\n",
       "    </tr>\n",
       "    <tr>\n",
       "      <th>...</th>\n",
       "      <td>...</td>\n",
       "      <td>...</td>\n",
       "      <td>...</td>\n",
       "      <td>...</td>\n",
       "      <td>...</td>\n",
       "      <td>...</td>\n",
       "      <td>...</td>\n",
       "      <td>...</td>\n",
       "      <td>...</td>\n",
       "      <td>...</td>\n",
       "    </tr>\n",
       "    <tr>\n",
       "      <th>2094</th>\n",
       "      <td>47</td>\n",
       "      <td>98.000000</td>\n",
       "      <td>132.0</td>\n",
       "      <td>169.395909</td>\n",
       "      <td>22360.26</td>\n",
       "      <td>1.000000</td>\n",
       "      <td>0.000000</td>\n",
       "      <td>980.00</td>\n",
       "      <td>12936.000000</td>\n",
       "      <td>7</td>\n",
       "    </tr>\n",
       "    <tr>\n",
       "      <th>1330</th>\n",
       "      <td>60</td>\n",
       "      <td>76.666667</td>\n",
       "      <td>69.0</td>\n",
       "      <td>129.429565</td>\n",
       "      <td>8930.64</td>\n",
       "      <td>1.000000</td>\n",
       "      <td>0.000000</td>\n",
       "      <td>920.00</td>\n",
       "      <td>5290.000000</td>\n",
       "      <td>4</td>\n",
       "    </tr>\n",
       "    <tr>\n",
       "      <th>1998</th>\n",
       "      <td>40</td>\n",
       "      <td>81.889167</td>\n",
       "      <td>66.0</td>\n",
       "      <td>352.147576</td>\n",
       "      <td>23241.74</td>\n",
       "      <td>0.916667</td>\n",
       "      <td>0.083333</td>\n",
       "      <td>982.67</td>\n",
       "      <td>5404.685000</td>\n",
       "      <td>7</td>\n",
       "    </tr>\n",
       "    <tr>\n",
       "      <th>393</th>\n",
       "      <td>30</td>\n",
       "      <td>93.888889</td>\n",
       "      <td>35.0</td>\n",
       "      <td>289.648000</td>\n",
       "      <td>10137.68</td>\n",
       "      <td>1.000000</td>\n",
       "      <td>0.000000</td>\n",
       "      <td>845.00</td>\n",
       "      <td>3286.111111</td>\n",
       "      <td>6</td>\n",
       "    </tr>\n",
       "    <tr>\n",
       "      <th>385</th>\n",
       "      <td>18</td>\n",
       "      <td>100.000000</td>\n",
       "      <td>124.0</td>\n",
       "      <td>271.071452</td>\n",
       "      <td>33612.86</td>\n",
       "      <td>1.000000</td>\n",
       "      <td>0.000000</td>\n",
       "      <td>900.00</td>\n",
       "      <td>12400.000000</td>\n",
       "      <td>6</td>\n",
       "    </tr>\n",
       "  </tbody>\n",
       "</table>\n",
       "<p>500 rows × 10 columns</p>\n",
       "</div>"
      ],
      "text/plain": [
       "      reducido  Calificacion_Promedio  Dias_Conectado  Minutos_Promedio  \\\n",
       "1555        28              63.667000            29.0        332.921379   \n",
       "915          4              94.642667           141.0        449.418511   \n",
       "210         66              92.592222           139.0        274.542158   \n",
       "829          4              12.762000             6.0        801.935000   \n",
       "47          47              95.667000            28.0         83.333571   \n",
       "...        ...                    ...             ...               ...   \n",
       "2094        47              98.000000           132.0        169.395909   \n",
       "1330        60              76.666667            69.0        129.429565   \n",
       "1998        40              81.889167            66.0        352.147576   \n",
       "393         30              93.888889            35.0        289.648000   \n",
       "385         18             100.000000           124.0        271.071452   \n",
       "\n",
       "      Minutos_Total  ratio_puntuales  ratio_no_entregadas  puntaje_total  \\\n",
       "1555        9654.72         0.900000             0.100000         636.67   \n",
       "915        63368.01         1.000000             0.000000        1419.64   \n",
       "210        38161.36         1.000000             0.000000         833.33   \n",
       "829         4811.61         0.200000             0.800000         191.43   \n",
       "47          2333.34         1.000000             0.000000         956.67   \n",
       "...             ...              ...                  ...            ...   \n",
       "2094       22360.26         1.000000             0.000000         980.00   \n",
       "1330        8930.64         1.000000             0.000000         920.00   \n",
       "1998       23241.74         0.916667             0.083333         982.67   \n",
       "393        10137.68         1.000000             0.000000         845.00   \n",
       "385        33612.86         1.000000             0.000000         900.00   \n",
       "\n",
       "      puntaje_conexiones  mes_ciclo  \n",
       "1555         1846.343000          5  \n",
       "915         13344.616000          3  \n",
       "210         12870.318889          1  \n",
       "829            76.572000          2  \n",
       "47           2678.676000          5  \n",
       "...                  ...        ...  \n",
       "2094        12936.000000          7  \n",
       "1330         5290.000000          4  \n",
       "1998         5404.685000          7  \n",
       "393          3286.111111          6  \n",
       "385         12400.000000          6  \n",
       "\n",
       "[500 rows x 10 columns]"
      ]
     },
     "execution_count": 232,
     "metadata": {},
     "output_type": "execute_result"
    }
   ],
   "source": [
    "X_test[X_test.columns[selector.support_]]"
   ]
  },
  {
   "cell_type": "markdown",
   "metadata": {},
   "source": [
    "Haciendo predicciones del Sample Test"
   ]
  },
  {
   "cell_type": "code",
   "execution_count": 233,
   "metadata": {},
   "outputs": [
    {
     "name": "stdout",
     "output_type": "stream",
     "text": [
      "['No' 'Si' 'Si' 'No' 'Si' 'No' 'Si' 'No' 'Si' 'Si' 'Si' 'Si' 'Si' 'No'\n",
      " 'Si' 'No' 'No' 'Si' 'Si' 'No' 'Si' 'No' 'No' 'No' 'Si' 'Si' 'Si' 'Si'\n",
      " 'Si' 'Si' 'Si' 'Si' 'Si' 'Si' 'No' 'Si' 'No' 'No' 'No' 'No' 'No' 'Si'\n",
      " 'Si' 'No' 'Si' 'Si' 'No' 'Si' 'No' 'No' 'Si' 'No' 'No' 'Si' 'Si' 'Si'\n",
      " 'Si' 'Si' 'Si' 'No' 'Si' 'Si' 'Si' 'Si' 'No' 'No' 'Si' 'No' 'Si' 'Si'\n",
      " 'Si' 'Si' 'No' 'No' 'Si' 'No' 'No' 'No' 'Si' 'No' 'Si' 'Si' 'Si' 'Si'\n",
      " 'No' 'No' 'No' 'Si' 'No' 'No' 'Si' 'No' 'No' 'No' 'Si' 'Si' 'Si' 'Si'\n",
      " 'No' 'Si' 'No' 'Si' 'No' 'No' 'No' 'No' 'Si' 'No' 'Si' 'No' 'Si' 'No'\n",
      " 'Si' 'Si' 'Si' 'Si' 'No' 'Si' 'Si' 'No' 'Si' 'Si' 'No' 'Si' 'Si' 'Si'\n",
      " 'No' 'No' 'Si' 'Si' 'Si' 'No' 'Si' 'Si' 'No' 'No' 'Si' 'No' 'Si' 'Si'\n",
      " 'No' 'No' 'No' 'No' 'No' 'No' 'Si' 'Si' 'Si' 'Si' 'No' 'No' 'Si' 'No'\n",
      " 'No' 'No' 'Si' 'Si' 'Si' 'No' 'Si' 'No' 'Si' 'Si' 'Si' 'No' 'Si' 'Si'\n",
      " 'No' 'No' 'Si' 'Si' 'No' 'Si' 'Si' 'No' 'No' 'No' 'Si' 'No' 'Si' 'No'\n",
      " 'No' 'No' 'No' 'No' 'No' 'Si' 'Si' 'Si' 'No' 'Si' 'No' 'No' 'No' 'Si'\n",
      " 'Si' 'No' 'No' 'Si' 'Si' 'Si' 'Si' 'Si' 'Si' 'Si' 'Si' 'No' 'Si' 'Si'\n",
      " 'Si' 'No' 'No' 'Si' 'No' 'No' 'No' 'Si' 'Si' 'Si' 'Si' 'Si' 'Si' 'Si'\n",
      " 'No' 'Si' 'Si' 'No' 'Si' 'Si' 'Si' 'Si' 'Si' 'Si' 'Si' 'Si' 'No' 'No'\n",
      " 'No' 'Si' 'Si' 'Si' 'No' 'No' 'No' 'Si' 'No' 'Si' 'No' 'Si' 'No' 'No'\n",
      " 'No' 'No' 'No' 'Si' 'Si' 'No' 'No' 'Si' 'Si' 'No' 'Si' 'Si' 'Si' 'No'\n",
      " 'Si' 'No' 'Si' 'Si' 'No' 'No' 'Si' 'No' 'Si' 'Si' 'No' 'No' 'No' 'No'\n",
      " 'Si' 'Si' 'Si' 'No' 'No' 'No' 'No' 'Si' 'No' 'Si' 'Si' 'Si' 'No' 'Si'\n",
      " 'Si' 'Si' 'Si' 'No' 'Si' 'No' 'Si' 'Si' 'No' 'No' 'No' 'Si' 'No' 'Si'\n",
      " 'Si' 'No' 'No' 'No' 'Si' 'Si' 'Si' 'No' 'No' 'No' 'No' 'No' 'No' 'Si'\n",
      " 'Si' 'No' 'No' 'Si' 'No' 'No' 'Si' 'Si' 'No' 'No' 'Si' 'No' 'Si' 'No'\n",
      " 'No' 'No' 'No' 'No' 'No' 'No' 'Si' 'Si' 'Si' 'Si' 'No' 'Si' 'No' 'No'\n",
      " 'Si' 'No' 'No' 'No' 'Si' 'No' 'Si' 'Si' 'Si' 'Si' 'No' 'Si' 'Si' 'Si'\n",
      " 'Si' 'Si' 'Si' 'Si' 'No' 'No' 'No' 'Si' 'Si' 'No' 'No' 'Si' 'Si' 'Si'\n",
      " 'No' 'No' 'No' 'No' 'Si' 'No' 'Si' 'Si' 'No' 'Si' 'No' 'No' 'No' 'No'\n",
      " 'Si' 'Si' 'No' 'Si' 'Si' 'Si' 'Si' 'Si' 'No' 'Si' 'No' 'Si' 'Si' 'Si'\n",
      " 'Si' 'No' 'Si' 'No' 'No' 'Si' 'Si' 'Si' 'No' 'No' 'No' 'Si' 'No' 'No'\n",
      " 'No' 'Si' 'No' 'Si' 'Si' 'No' 'No' 'Si' 'Si' 'No' 'No' 'No' 'Si' 'Si'\n",
      " 'Si' 'No' 'No' 'No' 'No' 'No' 'No' 'No' 'Si' 'No' 'Si' 'No' 'No' 'Si'\n",
      " 'No' 'Si' 'Si' 'Si' 'No' 'No' 'Si' 'Si' 'Si' 'Si' 'Si' 'No' 'No' 'No'\n",
      " 'Si' 'Si' 'No' 'No' 'Si' 'Si' 'No' 'No' 'Si' 'Si' 'No' 'Si' 'Si' 'No'\n",
      " 'No' 'No' 'Si' 'Si' 'Si' 'No' 'Si' 'Si' 'Si' 'No' 'No' 'No' 'No' 'No'\n",
      " 'Si' 'Si' 'No' 'Si' 'No' 'Si' 'Si' 'Si' 'Si' 'Si']\n"
     ]
    }
   ],
   "source": [
    "y_pred = dtc.predict(X_test[X_test.columns[selector.support_]])\n",
    "print(y_pred)"
   ]
  },
  {
   "cell_type": "markdown",
   "metadata": {},
   "source": [
    "### Analice la calidad del modelo a través de la matriz de confusión"
   ]
  },
  {
   "cell_type": "code",
   "execution_count": 234,
   "metadata": {},
   "outputs": [],
   "source": [
    "#!pip install seaborn --upgrade"
   ]
  },
  {
   "cell_type": "code",
   "execution_count": 235,
   "metadata": {},
   "outputs": [
    {
     "data": {
      "text/plain": [
       "Text(0.5, 15.0, 'Predicted label\\n\\nAccuracy=0.796\\nPrecision=0.824\\nRecall=0.800\\nF1 Score=0.8118081180811808')"
      ]
     },
     "execution_count": 235,
     "metadata": {},
     "output_type": "execute_result"
    },
    {
     "data": {
      "image/png": "[encoded data removed]",
      "text/plain": [
       "<Figure size 432x288 with 2 Axes>"
      ]
     },
     "metadata": {
      "needs_background": "light"
     },
     "output_type": "display_data"
    }
   ],
   "source": [
    "from sklearn.metrics import confusion_matrix\n",
    "import matplotlib.pyplot as plt\n",
    "import seaborn as sns\n",
    "\n",
    "\n",
    "cf_matrix = confusion_matrix(y_test, y_pred)\n",
    "group_names = ['`Positivo` Correto', '`Negativo` Errado', 'Falso `Positivo`', '`Negativo` Correto']\n",
    "group_counts = ['{0:0.0f}'.format(value) for value in cf_matrix.flatten()]\n",
    "group_percentages = ['{0:.2%}'.format(value) for value in cf_matrix.flatten()/np.sum(cf_matrix)]\n",
    "labels = [f'{v1}\\n{v2}\\n{v3}' for v1, v2, v3 in zip(group_names, group_counts, group_percentages)]\n",
    "labels = np.asarray(labels).reshape(2,2)\n",
    "accuracy  = np.trace(cf_matrix) / float(np.sum(cf_matrix))\n",
    "precision = cf_matrix[1,1] / sum(cf_matrix[:,1])\n",
    "recall    = cf_matrix[1,1] / sum(cf_matrix[1,:])\n",
    "f1_score  = 2*precision*recall / (precision + recall)\n",
    "sns.heatmap(cf_matrix, annot=labels, fmt=\"\")\n",
    "stats_text = \"\\n\\nAccuracy={:0.3f}\\nPrecision={:0.3f}\\nRecall={:0.3f}\\nF1 Score={}\".format(accuracy, precision, recall, f1_score)\n",
    "plt.ylabel('True label')\n",
    "plt.xlabel('Predicted label' + stats_text)"
   ]
  },
  {
   "cell_type": "code",
   "execution_count": 58,
   "metadata": {},
   "outputs": [
    {
     "name": "stdout",
     "output_type": "stream",
     "text": [
      "Feature: reducido, Score: 0.053541237981877786\n",
      "Feature: Calificacion_Promedio, Score: 0.17696236207457108\n",
      "Feature: Tareas_Puntuales, Score: 0.025399377046268448\n",
      "Feature: Tareas_No_Entregadas, Score: 0.0019294290644420332\n",
      "Feature: Tareas_Retrasadas, Score: 0.0004965183591393254\n",
      "Feature: Total_Tareas, Score: 0.009541625948477789\n",
      "Feature: Dias_Conectado, Score: 0.39518207153356916\n",
      "Feature: Minutos_Promedio, Score: 0.07547573194182858\n",
      "Feature: Minutos_Total, Score: 0.07417813818372782\n",
      "Feature: value, Score: 0.02907925342676342\n",
      "Feature: ratio_puntuales, Score: 0.026375418251583158\n",
      "Feature: ratio_no_entregadas, Score: 0.011311599736421159\n",
      "Feature: ratio_retrasadas, Score: 0.006481757196022754\n",
      "Feature: puntaje_total, Score: 0.059990561151359374\n",
      "Feature: anio_ciclo, Score: 0.013716224287942688\n",
      "Feature: mes_ciclo, Score: 0.040338693816005404\n"
     ]
    },
    {
     "data": {
      "image/png": "[encoded data removed]",
      "text/plain": [
       "<Figure size 432x288 with 1 Axes>"
      ]
     },
     "metadata": {
      "needs_background": "light"
     },
     "output_type": "display_data"
    }
   ],
   "source": [
    "importance = dtc.feature_importances_\n",
    "# summarize feature importance\n",
    "for i,v in enumerate(importance):\n",
    "\tprint('Feature: {}, Score: {}'.format(features.columns[i],v))\n",
    "# plot feature importance\n",
    "plt.barh([x for x in features.columns], importance)\n",
    "plt.show()"
   ]
  },
  {
   "cell_type": "markdown",
   "metadata": {},
   "source": [
    "<hr>"
   ]
  },
  {
   "cell_type": "markdown",
   "metadata": {},
   "source": [
    "## Scoring de la data requerida para hacer la entrega de la solución"
   ]
  },
  {
   "cell_type": "markdown",
   "metadata": {},
   "source": [
    "Para el envío, necesita clasificar el siguiente dataset. Para hacer eso, usted necesita reproducir los mismos pasos de pre-procesamiento para que el dataset este en la misma estructura del que usted uso para construir su modelo. Despues de clasificar este dataframe, esperamos que usted entregue un archivo csv con las 2499 filar y una columna 'Graduado' con su predicción. **No cambie el orden del archivo a predecir ni borre filas**"
   ]
  },
  {
   "cell_type": "code",
   "execution_count": 76,
   "metadata": {},
   "outputs": [
    {
     "data": {
      "text/html": [
       "<div>\n",
       "<style scoped>\n",
       "    .dataframe tbody tr th:only-of-type {\n",
       "        vertical-align: middle;\n",
       "    }\n",
       "\n",
       "    .dataframe tbody tr th {\n",
       "        vertical-align: top;\n",
       "    }\n",
       "\n",
       "    .dataframe thead th {\n",
       "        text-align: right;\n",
       "    }\n",
       "</style>\n",
       "<table border=\"1\" class=\"dataframe\">\n",
       "  <thead>\n",
       "    <tr style=\"text-align: right;\">\n",
       "      <th></th>\n",
       "      <th>studentId</th>\n",
       "      <th>reducido</th>\n",
       "      <th>ciclo</th>\n",
       "    </tr>\n",
       "  </thead>\n",
       "  <tbody>\n",
       "    <tr>\n",
       "      <th>995</th>\n",
       "      <td>79594.0</td>\n",
       "      <td>Diagn. Psicoped.</td>\n",
       "      <td>2019 - 05</td>\n",
       "    </tr>\n",
       "    <tr>\n",
       "      <th>996</th>\n",
       "      <td>69470.0</td>\n",
       "      <td>Ventas Estrat.</td>\n",
       "      <td>2018 - 08</td>\n",
       "    </tr>\n",
       "    <tr>\n",
       "      <th>997</th>\n",
       "      <td>72921.0</td>\n",
       "      <td>Big Data</td>\n",
       "      <td>2019 - 02</td>\n",
       "    </tr>\n",
       "    <tr>\n",
       "      <th>998</th>\n",
       "      <td>80608.0</td>\n",
       "      <td>Interv. Psicoped</td>\n",
       "      <td>2019 - 05</td>\n",
       "    </tr>\n",
       "    <tr>\n",
       "      <th>999</th>\n",
       "      <td>86966.0</td>\n",
       "      <td>Interv. Psicoped</td>\n",
       "      <td>2019 - 07</td>\n",
       "    </tr>\n",
       "  </tbody>\n",
       "</table>\n",
       "</div>"
      ],
      "text/plain": [
       "     studentId          reducido      ciclo\n",
       "995    79594.0  Diagn. Psicoped.  2019 - 05\n",
       "996    69470.0    Ventas Estrat.  2018 - 08\n",
       "997    72921.0          Big Data  2019 - 02\n",
       "998    80608.0  Interv. Psicoped  2019 - 05\n",
       "999    86966.0  Interv. Psicoped  2019 - 07"
      ]
     },
     "execution_count": 76,
     "metadata": {},
     "output_type": "execute_result"
    }
   ],
   "source": [
    "#!wget --no-check-certificate --content-disposition https://raw.githubusercontent.com/vanderlei-test/dataset2/master/for_submission/ToBePredicted.csv\n",
    "df2 = pd.read_csv(r'ToBePredicted.csv')\n",
    "df2.tail()"
   ]
  },
  {
   "cell_type": "code",
   "execution_count": null,
   "metadata": {},
   "outputs": [],
   "source": [
    "# Uniendo los dataset\n",
    "df = pd.merge(\n",
    "    df_to_be_predicted, df_tabla_tareas, how='inner',\n",
    "    on=None, left_on=['studentId', 'ciclo'], right_on=['studentId', 'ciclo'],\n",
    "    left_index=False, right_index=False, sort=True,\n",
    "    suffixes=('_x', '_y'), copy=True, indicator=False,\n",
    "    validate=None\n",
    ")\n",
    "\n",
    "# Eliminando la columna 'reducido'\n",
    "df2 = df.drop(columns=['reducido'], inplace=False)\n",
    "\n",
    "# Columnas One-hot-encoding del dataset usando el metodo de Pandas ``get_dummies``  (demontración)\n",
    "df3 = pd.get_dummies(df2, columns=['ciclo'])\n",
    "df3.tail()"
   ]
  },
  {
   "cell_type": "markdown",
   "metadata": {},
   "source": [
    "Observando los features declarados acontinuación, sabemos que el dataset ha ser evaluado esta en el mismo formato usado para entrenar nuestro árbol de decisión anteriormente.\n",
    "\n",
    "```features = df3[\n",
    "    [\n",
    "        'studentId', 'Calificacion_Promedio', 'Tareas_Puntuales',\n",
    "        'Tareas_No_Entregadas', 'Tareas_Retrasadas', 'Total_Tareas',\n",
    "        'ciclo_2017 - 03', 'ciclo_2017 - 04', 'ciclo_2017 - 05',\n",
    "        'ciclo_2017 - 06', 'ciclo_2017 - 07', 'ciclo_2017 - 08',\n",
    "        'ciclo_2018 - 01', 'ciclo_2018 - 02', 'ciclo_2018 - 03',\n",
    "        'ciclo_2018 - 04', 'ciclo_2018 - 05', 'ciclo_2018 - 06',\n",
    "        'ciclo_2018 - 07', 'ciclo_2018 - 08', 'ciclo_2019 - 01',\n",
    "        'ciclo_2019 - 02', 'ciclo_2019 - 03', 'ciclo_2019 - 04',\n",
    "        'ciclo_2019 - 05', 'ciclo_2019 - 06', 'ciclo_2019 - 07',\n",
    "        'ciclo_2019 - 08'\n",
    "    ]\n",
    "]\n",
    "target = df3['Graduado']  ## No cambie la variable target!```"
   ]
  },
  {
   "cell_type": "code",
   "execution_count": 89,
   "metadata": {},
   "outputs": [
    {
     "name": "stdout",
     "output_type": "stream",
     "text": [
      "['No' 'No' 'Si' 'No' 'No' 'No' 'No' 'No' 'No' 'No' 'No' 'No' 'Si' 'No'\n",
      " 'Si' 'Si' 'Si' 'Si' 'No' 'No' 'No' 'No' 'No' 'No' 'Si' 'Si' 'No' 'No'\n",
      " 'Si' 'No' 'Si' 'Si' 'No' 'Si' 'Si' 'Si' 'No' 'Si' 'Si' 'Si' 'No' 'Si'\n",
      " 'No' 'Si' 'Si' 'Si' 'Si' 'No' 'No' 'Si' 'No' 'No' 'Si' 'No' 'Si' 'Si'\n",
      " 'Si' 'No' 'Si' 'Si' 'Si' 'Si' 'Si' 'Si' 'Si' 'Si' 'Si' 'Si' 'Si' 'Si'\n",
      " 'Si' 'No' 'No' 'Si' 'Si' 'Si' 'Si' 'Si' 'Si' 'No' 'Si' 'Si' 'No' 'Si'\n",
      " 'Si' 'No' 'No' 'No' 'Si' 'No' 'Si' 'Si' 'No' 'Si' 'Si' 'Si' 'No' 'Si'\n",
      " 'No' 'Si' 'Si' 'No' 'No' 'No' 'No' 'Si' 'Si' 'Si' 'Si' 'Si' 'No' 'Si'\n",
      " 'Si' 'No' 'Si' 'No' 'Si' 'Si' 'No' 'No' 'Si' 'Si' 'Si' 'Si' 'Si' 'Si'\n",
      " 'Si' 'No' 'No' 'Si' 'No' 'No' 'Si' 'Si' 'Si' 'Si' 'Si' 'Si' 'Si' 'Si'\n",
      " 'No' 'Si' 'No' 'No' 'Si' 'No' 'Si' 'Si' 'Si' 'No' 'No' 'Si' 'No' 'Si'\n",
      " 'No' 'Si' 'Si' 'Si' 'No' 'No' 'Si' 'No' 'No' 'No' 'Si' 'No' 'No' 'No'\n",
      " 'Si' 'Si' 'No' 'No' 'Si' 'No' 'Si' 'Si' 'Si' 'Si' 'Si' 'No' 'No' 'Si'\n",
      " 'No' 'No' 'Si' 'Si' 'Si' 'No' 'Si' 'No' 'No' 'Si' 'No' 'Si' 'Si' 'No'\n",
      " 'Si' 'Si' 'Si' 'No' 'No' 'Si' 'Si' 'No' 'Si' 'Si' 'No' 'Si' 'Si' 'Si'\n",
      " 'Si' 'No' 'No' 'Si' 'Si' 'No' 'No' 'Si' 'No' 'Si' 'Si' 'Si' 'Si' 'Si'\n",
      " 'No' 'No' 'Si' 'Si' 'Si' 'Si' 'Si' 'Si' 'Si' 'No' 'Si' 'Si' 'Si' 'No'\n",
      " 'No' 'No' 'Si' 'Si' 'Si' 'No' 'No' 'Si' 'No' 'No' 'Si' 'No' 'No' 'No'\n",
      " 'No' 'Si' 'No' 'No' 'Si' 'Si' 'Si' 'Si' 'Si' 'Si' 'No' 'No' 'No' 'No'\n",
      " 'No' 'No' 'No' 'No' 'Si' 'Si' 'Si' 'No' 'Si' 'Si' 'Si' 'Si' 'Si' 'Si'\n",
      " 'No' 'No' 'No' 'Si' 'No' 'Si' 'Si' 'No' 'Si' 'No' 'No' 'Si' 'No' 'No'\n",
      " 'No' 'No' 'Si' 'No' 'Si' 'No' 'Si' 'No' 'No' 'No' 'No' 'Si' 'No' 'Si'\n",
      " 'Si' 'No' 'Si' 'No' 'Si' 'Si' 'Si' 'No' 'No' 'No' 'No' 'No' 'Si' 'Si'\n",
      " 'No' 'Si' 'Si' 'Si' 'Si' 'No' 'Si' 'Si' 'Si' 'Si' 'No' 'No' 'Si' 'No'\n",
      " 'No' 'No' 'Si' 'Si' 'Si' 'Si' 'No' 'Si' 'Si' 'No' 'Si' 'No' 'No' 'No'\n",
      " 'Si' 'Si' 'Si' 'Si' 'No' 'No' 'Si' 'No' 'No' 'Si' 'Si' 'No' 'Si' 'Si'\n",
      " 'No' 'Si' 'Si' 'No' 'Si' 'No' 'Si' 'No' 'Si' 'Si' 'No' 'Si' 'Si' 'No'\n",
      " 'Si' 'No' 'Si' 'No' 'Si' 'Si' 'Si' 'Si' 'No' 'No' 'Si' 'Si' 'No' 'Si'\n",
      " 'Si' 'No' 'No' 'No' 'Si' 'Si' 'Si' 'Si' 'No' 'No' 'No' 'No' 'No' 'No'\n",
      " 'Si' 'Si' 'Si' 'Si' 'Si' 'Si' 'Si' 'Si' 'Si' 'No' 'Si' 'Si' 'No' 'No'\n",
      " 'Si' 'Si' 'Si' 'No' 'No' 'Si' 'No' 'Si' 'Si' 'No' 'Si' 'Si' 'No' 'No'\n",
      " 'No' 'Si' 'Si' 'No' 'Si' 'Si' 'Si' 'No' 'Si' 'Si' 'Si' 'Si' 'Si' 'No'\n",
      " 'Si' 'No' 'No' 'No' 'Si' 'No' 'Si' 'Si' 'Si' 'Si' 'No' 'No' 'No' 'Si'\n",
      " 'No' 'No' 'Si' 'No' 'Si' 'Si' 'No' 'No' 'No' 'Si' 'No' 'No' 'Si' 'Si'\n",
      " 'No' 'Si' 'Si' 'Si' 'Si' 'No' 'Si' 'Si' 'Si' 'Si' 'Si' 'Si' 'Si' 'No'\n",
      " 'No' 'Si' 'Si' 'No' 'Si' 'Si' 'Si' 'Si' 'No' 'No' 'Si' 'Si' 'No' 'Si'\n",
      " 'No' 'Si' 'Si' 'No' 'No' 'Si' 'Si' 'Si' 'Si' 'No' 'No' 'Si' 'No' 'No'\n",
      " 'Si' 'Si' 'Si' 'Si' 'Si' 'No' 'Si' 'No' 'Si' 'Si' 'Si' 'Si' 'No' 'Si'\n",
      " 'Si' 'No' 'No' 'No' 'No' 'No' 'Si' 'Si' 'Si' 'No' 'Si' 'Si' 'Si' 'Si'\n",
      " 'Si' 'No' 'Si' 'No' 'Si' 'No' 'No' 'No' 'No' 'Si' 'Si' 'No' 'Si' 'Si'\n",
      " 'No' 'Si' 'No' 'Si' 'No' 'No' 'No' 'Si' 'Si' 'No' 'Si' 'No' 'Si' 'Si'\n",
      " 'No' 'Si' 'Si' 'No' 'Si' 'No' 'Si' 'Si' 'No' 'Si' 'Si' 'Si' 'No' 'Si'\n",
      " 'Si' 'Si' 'Si' 'Si' 'Si' 'Si' 'Si' 'No' 'No' 'No' 'Si' 'Si' 'Si' 'Si'\n",
      " 'Si' 'No' 'Si' 'Si' 'Si' 'Si' 'Si' 'Si' 'No' 'Si' 'Si' 'No' 'Si' 'Si'\n",
      " 'Si' 'No' 'Si' 'No' 'Si' 'Si' 'Si' 'No' 'Si' 'Si' 'Si' 'Si' 'Si' 'Si'\n",
      " 'Si' 'Si' 'Si' 'No' 'No' 'No' 'No' 'No' 'No' 'Si' 'No' 'No' 'No' 'No'\n",
      " 'No' 'No' 'Si' 'Si' 'Si' 'Si' 'No' 'Si' 'No' 'Si' 'Si' 'Si' 'Si' 'Si'\n",
      " 'Si' 'Si' 'Si' 'No' 'Si' 'No' 'Si' 'No' 'No' 'Si' 'Si' 'Si' 'Si' 'No'\n",
      " 'Si' 'Si' 'Si' 'Si' 'No' 'No' 'Si' 'No' 'Si' 'No' 'Si' 'No' 'Si' 'Si'\n",
      " 'Si' 'No' 'Si' 'No' 'Si' 'Si' 'Si' 'No' 'Si' 'Si' 'Si' 'No' 'No' 'No'\n",
      " 'No' 'Si' 'Si' 'Si' 'No' 'Si' 'Si' 'No' 'Si' 'Si' 'Si' 'Si' 'Si' 'Si'\n",
      " 'No' 'Si' 'Si' 'No' 'Si' 'Si' 'No' 'No' 'No' 'Si' 'Si' 'Si' 'No' 'No'\n",
      " 'Si' 'Si' 'Si' 'No' 'No' 'No' 'No' 'No' 'Si' 'No' 'No' 'Si' 'Si' 'Si'\n",
      " 'No' 'Si' 'Si' 'Si' 'No' 'Si' 'Si' 'Si' 'No' 'Si' 'No' 'No' 'Si' 'Si'\n",
      " 'No' 'No' 'No' 'No' 'Si' 'No' 'Si' 'Si' 'Si' 'No' 'No' 'No' 'Si' 'Si'\n",
      " 'No' 'Si' 'Si' 'No' 'Si' 'Si' 'No' 'Si' 'Si' 'No' 'No' 'Si' 'No' 'Si'\n",
      " 'No' 'No' 'Si' 'Si' 'No' 'No' 'No' 'No' 'No' 'No' 'No' 'No' 'No' 'No'\n",
      " 'No' 'Si' 'No' 'No' 'Si' 'No' 'No' 'No' 'Si' 'No' 'Si' 'Si' 'Si' 'Si'\n",
      " 'No' 'Si' 'Si' 'No' 'Si' 'No' 'Si' 'No' 'Si' 'Si' 'Si' 'Si' 'No' 'No'\n",
      " 'No' 'Si' 'Si' 'No' 'No' 'No' 'No' 'Si' 'Si' 'Si' 'Si' 'No' 'Si' 'No'\n",
      " 'Si' 'Si' 'No' 'No' 'Si' 'No' 'Si' 'Si' 'Si' 'Si' 'Si' 'No' 'No' 'No'\n",
      " 'Si' 'Si' 'No' 'Si' 'Si' 'Si' 'Si' 'No' 'Si' 'Si' 'No' 'Si' 'No' 'No'\n",
      " 'No' 'No' 'No' 'No' 'Si' 'Si' 'No' 'Si' 'No' 'No' 'No' 'Si' 'Si' 'Si'\n",
      " 'Si' 'Si' 'Si' 'Si' 'No' 'Si' 'No' 'No' 'No' 'Si' 'Si' 'Si' 'No' 'Si'\n",
      " 'No' 'No' 'No' 'No' 'No' 'No' 'No' 'Si' 'No' 'Si' 'No' 'No' 'No' 'No'\n",
      " 'Si' 'No' 'No' 'No' 'No' 'Si' 'No' 'No' 'No' 'Si' 'No' 'Si' 'Si' 'Si'\n",
      " 'Si' 'No' 'No' 'Si' 'Si' 'Si' 'Si' 'Si' 'No' 'No' 'Si' 'Si' 'No' 'No'\n",
      " 'No' 'Si' 'No' 'No' 'Si' 'No' 'No' 'Si' 'No' 'Si' 'Si' 'Si' 'Si' 'Si'\n",
      " 'Si' 'No' 'Si' 'Si' 'Si' 'Si' 'Si' 'Si' 'Si' 'Si' 'Si' 'No' 'No' 'Si'\n",
      " 'Si' 'Si' 'No' 'No' 'Si' 'No' 'No' 'Si' 'No' 'No' 'No' 'No' 'Si' 'Si'\n",
      " 'Si' 'Si' 'Si' 'No' 'No' 'No' 'No' 'Si' 'Si' 'No' 'Si' 'Si' 'Si' 'Si'\n",
      " 'Si' 'Si' 'Si' 'Si' 'Si' 'Si']\n"
     ]
    }
   ],
   "source": [
    "y_pred = dtc.predict(df2[X_test.columns[selector.support_]])\n",
    "print(y_pred)"
   ]
  },
  {
   "cell_type": "markdown",
   "metadata": {},
   "source": [
    "### Guardando los resultados de la predicción en un archivo csv"
   ]
  },
  {
   "cell_type": "code",
   "execution_count": null,
   "metadata": {},
   "outputs": [],
   "source": []
  },
  {
   "cell_type": "code",
   "execution_count": 90,
   "metadata": {},
   "outputs": [],
   "source": [
    "np.savetxt(\"results.csv\", y_pred, delimiter=\",\", fmt='%s')"
   ]
  },
  {
   "cell_type": "code",
   "execution_count": 91,
   "metadata": {},
   "outputs": [
    {
     "ename": "NameError",
     "evalue": "name 'project' is not defined",
     "output_type": "error",
     "traceback": [
      "\u001b[1;31m---------------------------------------------------------------------------\u001b[0m",
      "\u001b[1;31mNameError\u001b[0m                                 Traceback (most recent call last)",
      "\u001b[1;32m<ipython-input-91-14cc49a26228>\u001b[0m in \u001b[0;36m<module>\u001b[1;34m\u001b[0m\n\u001b[1;32m----> 1\u001b[1;33m \u001b[0mproject\u001b[0m\u001b[1;33m.\u001b[0m\u001b[0msave_data\u001b[0m\u001b[1;33m(\u001b[0m\u001b[0mfile_name\u001b[0m\u001b[1;33m=\u001b[0m\u001b[1;34m\"results.csv\"\u001b[0m\u001b[1;33m,\u001b[0m \u001b[0mdata\u001b[0m\u001b[1;33m=\u001b[0m\u001b[0mpd\u001b[0m\u001b[1;33m.\u001b[0m\u001b[0mread_csv\u001b[0m\u001b[1;33m(\u001b[0m\u001b[1;34m\"results.csv\"\u001b[0m\u001b[1;33m,\u001b[0m \u001b[0mheader\u001b[0m\u001b[1;33m=\u001b[0m\u001b[1;32mNone\u001b[0m\u001b[1;33m)\u001b[0m\u001b[1;33m.\u001b[0m\u001b[0mto_csv\u001b[0m\u001b[1;33m(\u001b[0m\u001b[0mheader\u001b[0m\u001b[1;33m=\u001b[0m\u001b[1;33m[\u001b[0m\u001b[1;34m\"TARGET\"\u001b[0m\u001b[1;33m]\u001b[0m\u001b[1;33m,\u001b[0m \u001b[0mindex\u001b[0m\u001b[1;33m=\u001b[0m\u001b[1;32mFalse\u001b[0m\u001b[1;33m)\u001b[0m\u001b[1;33m)\u001b[0m\u001b[1;33m\u001b[0m\u001b[1;33m\u001b[0m\u001b[0m\n\u001b[0m",
      "\u001b[1;31mNameError\u001b[0m: name 'project' is not defined"
     ]
    }
   ],
   "source": [
    "project.save_data(file_name=\"results.csv\", data=pd.read_csv(\"results.csv\", header=None).to_csv(header=[\"TARGET\"], index=False))"
   ]
  },
  {
   "cell_type": "markdown",
   "metadata": {},
   "source": [
    "<hr>\n",
    "\n",
    "## ¡Felicitaciones!\n",
    "\n",
    "Si todo fue ejecutado sin errores, usted ya tiene un modelo basado en classificacion binaria y puede descargar sus resultados para subirlos como csv!\n",
    "\n",
    "Para enviar su solución, ve a la página:\n",
    "\n",
    "# https://anahuac.maratona.dev\n"
   ]
  },
  {
   "cell_type": "code",
   "execution_count": null,
   "metadata": {},
   "outputs": [],
   "source": []
  }
 ],
 "metadata": {
  "kernelspec": {
   "display_name": "Python 3",
   "language": "python",
   "name": "python3"
  },
  "language_info": {
   "codemirror_mode": {
    "name": "ipython",
    "version": 3
   },
   "file_extension": ".py",
   "mimetype": "text/x-python",
   "name": "python",
   "nbconvert_exporter": "python",
   "pygments_lexer": "ipython3",
   "version": "3.7.3"
  }
 },
 "nbformat": 4,
 "nbformat_minor": 1
}
